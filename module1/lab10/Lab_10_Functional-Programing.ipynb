{
 "cells": [
  {
   "cell_type": "markdown",
   "id": "47a20e49",
   "metadata": {},
   "source": [
    "1)Consider an array/list of sheep where some sheep may be missing from their place. \n",
    "We need a function that counts the number of sheep present in the array (true means present).\n",
    "\n",
    "For example,\n",
    "[True,  True,  True,  False,\n",
    "  True,  True,  True,  True ,\n",
    "  True,  False, True,  False,\n",
    "  True,  False, False, True ,\n",
    "  True,  True,  True,  True ,\n",
    "  False, False, True,  True]"
   ]
  },
  {
   "cell_type": "code",
   "execution_count": 3,
   "id": "f53f37ba",
   "metadata": {},
   "outputs": [],
   "source": [
    "def count_nb_sheep(list1):\n",
    "    return list1.count(True)"
   ]
  },
  {
   "cell_type": "code",
   "execution_count": 4,
   "id": "30309502",
   "metadata": {},
   "outputs": [],
   "source": [
    "list2 = [True, True, True, False, True, True, True, True , True, False, True, False, True, False, False, True , True, True, True, True , False, False, True, True]"
   ]
  },
  {
   "cell_type": "code",
   "execution_count": 5,
   "id": "763952a5",
   "metadata": {},
   "outputs": [
    {
     "name": "stdout",
     "output_type": "stream",
     "text": [
      "17\n"
     ]
    }
   ],
   "source": [
    "print(count_nb_sheep(list2))"
   ]
  },
  {
   "cell_type": "markdown",
   "id": "111b1886",
   "metadata": {},
   "source": [
    "2)Take an array and remove every second element from the array.\n",
    "Always keep the first element and start removing with the next element.\n",
    "\n",
    "Example:\n",
    "[\"Keep\", \"Remove\", \"Keep\", \"Remove\", \"Keep\", ...] --> [\"Keep\", \"Keep\", \"Keep\", ...]"
   ]
  },
  {
   "cell_type": "code",
   "execution_count": 8,
   "id": "8314f540",
   "metadata": {},
   "outputs": [
    {
     "name": "stdout",
     "output_type": "stream",
     "text": [
      "['Keep', 'Keep', 'Keep']\n"
     ]
    }
   ],
   "source": [
    "list1 = [\"Keep\", \"Remove\", \"Keep\", \"Remove\", \"Keep\"]\n",
    "def remove_second(list1):\n",
    "    return list1[::2]\n",
    "\n",
    "print(remove_second(list1))\n",
    "    \n",
    "            "
   ]
  },
  {
   "cell_type": "markdown",
   "id": "661054d7",
   "metadata": {},
   "source": [
    "Convert number to reversed array of digits\n",
    "\n",
    "Given a random non-negative number, you have to return the digits of this number within an array in reverse order.\n",
    "\n",
    "Example:\n",
    "\n",
    "348597 => [7,9,5,8,4,3]\n",
    "0 => [0]"
   ]
  },
  {
   "cell_type": "code",
   "execution_count": 16,
   "id": "58a05bc0",
   "metadata": {},
   "outputs": [
    {
     "name": "stdout",
     "output_type": "stream",
     "text": [
      "[7, 9, 5, 8, 4, 3]\n",
      "[0]\n"
     ]
    }
   ],
   "source": [
    "def reversing(number):\n",
    "    tmp = list(str(number))\n",
    "    tmp = tmp[::-1]\n",
    "    tmp = [int(i) for i in tmp]\n",
    "    return tmp\n",
    "\n",
    "print(reversing(348597))\n",
    "print(reversing(0))"
   ]
  },
  {
   "cell_type": "code",
   "execution_count": null,
   "id": "b6ef119a",
   "metadata": {},
   "outputs": [],
   "source": []
  },
  {
   "cell_type": "code",
   "execution_count": null,
   "id": "afa6c533",
   "metadata": {},
   "outputs": [],
   "source": []
  },
  {
   "cell_type": "markdown",
   "id": "57737ba5",
   "metadata": {},
   "source": [
    "Welcome. In this kata, you are asked to square every digit of a number and concatenate them.\n",
    "\n",
    "For example, if we run 9119 through the function, 811181 will come out, because 92 is 81 and 12 is 1.\n",
    "\n",
    "Note: The function accepts an integer and returns an integer"
   ]
  },
  {
   "cell_type": "code",
   "execution_count": 26,
   "id": "99290c7d",
   "metadata": {},
   "outputs": [
    {
     "name": "stdout",
     "output_type": "stream",
     "text": [
      "811181\n"
     ]
    }
   ],
   "source": [
    "def squaring(number):\n",
    "    tmp = list(str(number))\n",
    "    tmp = [int(i)*int(i) for i in tmp]\n",
    "    tmp = [str(i) for i in tmp]\n",
    "    tmp =''.join(tmp)\n",
    "    tmp = int(tmp)\n",
    "    return tmp\n",
    "\n",
    "print(squaring(9119))"
   ]
  },
  {
   "cell_type": "markdown",
   "id": "a3829b95",
   "metadata": {},
   "source": [
    "\n",
    "\n"
   ]
  },
  {
   "cell_type": "code",
   "execution_count": null,
   "id": "64c48857",
   "metadata": {},
   "outputs": [],
   "source": []
  }
 ],
 "metadata": {
  "kernelspec": {
   "display_name": "Python 3 (ipykernel)",
   "language": "python",
   "name": "python3"
  },
  "language_info": {
   "codemirror_mode": {
    "name": "ipython",
    "version": 3
   },
   "file_extension": ".py",
   "mimetype": "text/x-python",
   "name": "python",
   "nbconvert_exporter": "python",
   "pygments_lexer": "ipython3",
   "version": "3.9.7"
  }
 },
 "nbformat": 4,
 "nbformat_minor": 5
}
