{
 "cells": [
  {
   "cell_type": "markdown",
   "id": "d8b1e4aa",
   "metadata": {},
   "source": [
    "Define a method/function that removes from a given array of integers all the values contained in a second array.\n",
    "l = List()\n",
    "\n",
    "integer_list =  [1, 1, 2 ,3 ,1 ,2 ,3 ,4]\n",
    "values_list = [1, 3]\n",
    "l.remove_(integer_list, values_list) == [2, 2, 4]\n",
    "\n",
    "integer_list = [1, 1, 2 ,3 ,1 ,2 ,3 ,4, 4, 3 ,5, 6, 7, 2, 8]\n",
    "lst = [1, 3, 4, 2]\n",
    "l.remove_(integer_list, values_list) == [5, 6 ,7 ,8]\n",
    "\n",
    "integer_list = [8, 2, 7, 2, 3, 4, 6, 5, 4, 4, 1, 2 , 3]\n",
    "lst = [2, 4, 3]\n",
    "l.remove_(integer_list, values_list) == [8, 7, 6, 5, "
   ]
  },
  {
   "cell_type": "code",
   "execution_count": 32,
   "id": "649bbcf4",
   "metadata": {},
   "outputs": [
    {
     "name": "stdout",
     "output_type": "stream",
     "text": [
      "[1, 1, 2, 3, 1, 2, 3, 4]\n",
      "[2, 2, 4]\n"
     ]
    }
   ],
   "source": [
    "class List1:\n",
    "    def __init__(self, integer_list):\n",
    "        self.integer_list = integer_list\n",
    "        \n",
    "    def remove_(self, values_list):\n",
    "        \n",
    "        self.integer_list = [i for i in self.integer_list if i not in values_list]\n",
    "        \n",
    "l1 = List1([1, 1, 2 ,3 ,1 ,2 ,3 ,4] )\n",
    "\n",
    "print(l1.integer_list)\n",
    "\n",
    "l1.remove_([1, 3] )\n",
    "\n",
    "print(l1.integer_list)\n"
   ]
  },
  {
   "cell_type": "markdown",
   "id": "507aad82",
   "metadata": {},
   "source": [
    "We need a method in the List Class that may count specific digits from a given list of integers. \n",
    "This marked digits will be given in a second list. The method .count_spec_digits()/.countSpecDigits() will accept two arguments, \n",
    "a list of an uncertain amount of integers integers_lists/integersLists (and of an uncertain amount of digits, too) and a second list, digits_list/digitsList \n",
    "that has the specific digits to count which length cannot be be longer than 10 (It's obvious, we've got ten digits). \n",
    "The method will output a list of tuples, each tuple having two elements, the first one will be a digit to count, and second one, \n",
    "its corresponding total frequency in all the integers of the first list. This list of tuples should be ordered with the same order that the digits have in digitsList\n",
    "\n",
    "Let's see some cases:\n",
    "l = List()\n",
    "\n",
    "integers_list =  [1, 1, 2 ,3 ,1 ,2 ,3 ,4]\n",
    "digits_list = [1, 3]\n",
    "l.count_spec_digits(integers_list, digits_list) == [(1, 3), (3, 2)]\n",
    "\n",
    "integers_list = [-18, -31, 81, -19, 111, -888]\n",
    "digits_list = [1, 8, 4]\n",
    "l.count_spec_digits(integers_list, digits_list) == [(1, 7), (8, 5), (4, 0)]\n",
    "\n",
    "integers_list = [-77, -65, 56, -79, 6666, 222]\n",
    "digits_list = [1, 8, 4]\n",
    "l.count_spec_digits(integers_list, digits_list) == [(1, 0), (8, 0), (4, 0)]"
   ]
  },
  {
   "cell_type": "code",
   "execution_count": 42,
   "id": "88d04522",
   "metadata": {},
   "outputs": [
    {
     "name": "stdout",
     "output_type": "stream",
     "text": [
      "[1, 1, 2, 3, 1, 2, 3, 4]\n",
      "[(1, 3), (3, 2)]\n"
     ]
    }
   ],
   "source": [
    "class List1:\n",
    "    def __init__(self, integer_list):\n",
    "        self.integer_list = integer_list\n",
    "        \n",
    "    def count_spec_digits(self, values_list):\n",
    "        \n",
    "        self.integer_list = [i for i in self.integer_list if i in values_list]\n",
    "        l1 = []\n",
    "        for i in self.integer_list:\n",
    "            if (i,self.integer_list.count(i)) not in l1:\n",
    "                l1.append((i,self.integer_list.count(i)))\n",
    "\n",
    "        return l1\n",
    "\n",
    "        \n",
    "l1 = List1([1, 1, 2 ,3 ,1 ,2 ,3 ,4] )\n",
    "\n",
    "print(l1.integer_list)\n",
    "\n",
    "print(l1.count_spec_digits([1, 3] ))\n",
    "\n"
   ]
  },
  {
   "cell_type": "markdown",
   "id": "79cd8aec",
   "metadata": {},
   "source": [
    "Count the number of occurrences of each character and return it as a list of tuples in order of appearance. For empty output return an empty list.\n",
    "\n",
    "Example:\n",
    "ordered_count(\"abracadabra\") == [('a', 5), ('b', 2), ('r', 2), ('c', 1), ('d', 1)]"
   ]
  },
  {
   "cell_type": "code",
   "execution_count": 39,
   "id": "b98ec861",
   "metadata": {},
   "outputs": [
    {
     "name": "stdout",
     "output_type": "stream",
     "text": [
      "[('a', 5), ('b', 2), ('r', 2), ('c', 1), ('d', 1)]\n"
     ]
    }
   ],
   "source": [
    "def ordered_count(str1):\n",
    "    l1 = []\n",
    "    for i in str1:\n",
    "        if (i,str1.count(i)) not in l1:\n",
    "            l1.append((i,str1.count(i)))\n",
    "        \n",
    "    return l1\n",
    "        \n",
    "print(ordered_count(\"abracadabra\"))"
   ]
  },
  {
   "cell_type": "code",
   "execution_count": null,
   "id": "eecfd97a",
   "metadata": {},
   "outputs": [],
   "source": []
  }
 ],
 "metadata": {
  "kernelspec": {
   "display_name": "Python 3 (ipykernel)",
   "language": "python",
   "name": "python3"
  },
  "language_info": {
   "codemirror_mode": {
    "name": "ipython",
    "version": 3
   },
   "file_extension": ".py",
   "mimetype": "text/x-python",
   "name": "python",
   "nbconvert_exporter": "python",
   "pygments_lexer": "ipython3",
   "version": "3.9.7"
  }
 },
 "nbformat": 4,
 "nbformat_minor": 5
}
