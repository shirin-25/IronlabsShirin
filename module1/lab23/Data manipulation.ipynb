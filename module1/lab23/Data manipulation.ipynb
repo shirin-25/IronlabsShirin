{
 "cells": [
  {
   "cell_type": "code",
   "execution_count": null,
   "id": "c1399edf",
   "metadata": {},
   "outputs": [],
   "source": [
    "import pandas as pd"
   ]
  },
  {
   "cell_type": "code",
   "execution_count": null,
   "id": "95496f3f",
   "metadata": {},
   "outputs": [],
   "source": [
    "data=pd.read_cvs(r')"
   ]
  },
  {
   "cell_type": "code",
   "execution_count": null,
   "id": "e8e3d6d5",
   "metadata": {},
   "outputs": [],
   "source": []
  },
  {
   "cell_type": "code",
   "execution_count": null,
   "id": "a27ffb6f",
   "metadata": {},
   "outputs": [],
   "source": [
    "data=data.rename(columns)={'make'= 'Producer'\n",
    "                          'engine'=}"
   ]
  },
  {
   "cell_type": "code",
   "execution_count": null,
   "id": "431eeb77",
   "metadata": {},
   "outputs": [],
   "source": [
    "data.columns"
   ]
  },
  {
   "cell_type": "code",
   "execution_count": null,
   "id": "bce047d0",
   "metadata": {},
   "outputs": [],
   "source": [
    "column_orders"
   ]
  },
  {
   "cell_type": "code",
   "execution_count": null,
   "id": "c872e389",
   "metadata": {},
   "outputs": [],
   "source": [
    "column_order = ['Year','Make','Model','Vehicle Class',\n",
    "                'Transmission','Drivetrain','Fuel Type',\n",
    "                'Cylinders','Engine Displacement','Fuel Barrels/Year',\n",
    "                'City MPG','Highway MPG','Combined MPG',\n",
    "                'CO2 Emission Grams/Mile','Fuel Cost/Year']\n",
    "\n",
    "\n",
    "data = data[column_order]\n",
    "data.head()\n",
    "\n",
    "\n"
   ]
  },
  {
   "cell_type": "code",
   "execution_count": null,
   "id": "d3eda936",
   "metadata": {},
   "outputs": [],
   "source": [
    "filtered = data[(data['Make']=='Regular') & \n",
    "                (data['Cylinders']>=6) & \n",
    "                (data['Fuel Cost/Year'] < 18)]\n",
    "\n",
    "\n",
    "filtered.head()\n",
    "#\n"
   ]
  },
  {
   "cell_type": "code",
   "execution_count": null,
   "id": "f25633cf",
   "metadata": {},
   "outputs": [],
   "source": [
    "avg_mpg = data.groupby('Fuel Type', as_index=False).agg({'Combined MPG':'mean'})\n",
    "avg_mpg.columns = ['Fuel type', 'Avg_MPG']\n",
    "\n",
    "\n",
    "avg_mpg\n"
   ]
  },
  {
   "cell_type": "code",
   "execution_count": null,
   "id": "dbb66ea8",
   "metadata": {},
   "outputs": [],
   "source": [
    "data = pd.merge(data, avg_mpg, on='Fuel Type')\n",
    "data.head(5)\n"
   ]
  }
 ],
 "metadata": {
  "kernelspec": {
   "display_name": "Python 3 (ipykernel)",
   "language": "python",
   "name": "python3"
  },
  "language_info": {
   "codemirror_mode": {
    "name": "ipython",
    "version": 3
   },
   "file_extension": ".py",
   "mimetype": "text/x-python",
   "name": "python",
   "nbconvert_exporter": "python",
   "pygments_lexer": "ipython3",
   "version": "3.9.7"
  }
 },
 "nbformat": 4,
 "nbformat_minor": 5
}
