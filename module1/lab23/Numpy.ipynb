{
 "cells": [
  {
   "cell_type": "code",
   "execution_count": 13,
   "id": "a7637da4",
   "metadata": {},
   "outputs": [],
   "source": [
    "import numpy as np"
   ]
  },
  {
   "cell_type": "code",
   "execution_count": 14,
   "id": "7e0927d5",
   "metadata": {},
   "outputs": [
    {
     "data": {
      "text/plain": [
       "45"
      ]
     },
     "execution_count": 14,
     "metadata": {},
     "output_type": "execute_result"
    }
   ],
   "source": [
    "# python list\n",
    "a = [1,2,3,4,5,6,7,8,9]\n",
    "sum(a)"
   ]
  },
  {
   "cell_type": "code",
   "execution_count": 15,
   "id": "448be719",
   "metadata": {},
   "outputs": [
    {
     "data": {
      "text/plain": [
       "5.0"
      ]
     },
     "execution_count": 15,
     "metadata": {},
     "output_type": "execute_result"
    }
   ],
   "source": [
    "# numpy array\n",
    "A = np.array([1,2,3,4,5,6,7,8,9])\n",
    "A.sum()\n",
    "A.mean()\n"
   ]
  },
  {
   "cell_type": "code",
   "execution_count": 16,
   "id": "a3b67d6b",
   "metadata": {},
   "outputs": [
    {
     "data": {
      "text/plain": [
       "array([[1, 5, 6],\n",
       "       [6, 7, 8]])"
      ]
     },
     "execution_count": 16,
     "metadata": {},
     "output_type": "execute_result"
    }
   ],
   "source": [
    "# matrix \n",
    "b= np.array([(1,5,6),(6,7,8)])\n",
    "b"
   ]
  },
  {
   "cell_type": "code",
   "execution_count": 18,
   "id": "cc9b489f",
   "metadata": {},
   "outputs": [
    {
     "data": {
      "text/plain": [
       "array([[1, 5, 6],\n",
       "       [6, 7, 8]])"
      ]
     },
     "execution_count": 18,
     "metadata": {},
     "output_type": "execute_result"
    }
   ],
   "source": [
    "c = np.array([(1,5,6),(6,7,8)],dtype=int)\n",
    "c"
   ]
  },
  {
   "cell_type": "code",
   "execution_count": 19,
   "id": "ae5b874c",
   "metadata": {},
   "outputs": [
    {
     "data": {
      "text/plain": [
       "array([[[0, 0, 0],\n",
       "        [0, 0, 0],\n",
       "        [0, 0, 0],\n",
       "        [0, 0, 0]],\n",
       "\n",
       "       [[0, 0, 0],\n",
       "        [0, 0, 0],\n",
       "        [0, 0, 0],\n",
       "        [0, 0, 0]],\n",
       "\n",
       "       [[0, 0, 0],\n",
       "        [0, 0, 0],\n",
       "        [0, 0, 0],\n",
       "        [0, 0, 0]],\n",
       "\n",
       "       [[0, 0, 0],\n",
       "        [0, 0, 0],\n",
       "        [0, 0, 0],\n",
       "        [0, 0, 0]],\n",
       "\n",
       "       [[0, 0, 0],\n",
       "        [0, 0, 0],\n",
       "        [0, 0, 0],\n",
       "        [0, 0, 0]]])"
      ]
     },
     "execution_count": 19,
     "metadata": {},
     "output_type": "execute_result"
    }
   ],
   "source": [
    "# homegenous for data types\n",
    "\n",
    "a= np.zeros((5,4,3), dtype=int)\n",
    "a"
   ]
  },
  {
   "cell_type": "code",
   "execution_count": 23,
   "id": "733628fa",
   "metadata": {},
   "outputs": [
    {
     "data": {
      "text/plain": [
       "array([10, 15, 20, 25, 30, 35, 40, 45])"
      ]
     },
     "execution_count": 23,
     "metadata": {},
     "output_type": "execute_result"
    }
   ],
   "source": [
    "# range \n",
    "e=np.arange(10,50,5)\n",
    "e"
   ]
  },
  {
   "cell_type": "code",
   "execution_count": null,
   "id": "818516a5",
   "metadata": {},
   "outputs": [],
   "source": [
    "# multipulation\n",
    "# a*b\n",
    "# a@b\n",
    "# a.dot()"
   ]
  },
  {
   "cell_type": "code",
   "execution_count": null,
   "id": "f03f60dc",
   "metadata": {},
   "outputs": [],
   "source": [
    "# default range \n",
    "rg= np.arange.default\n",
    "\n"
   ]
  },
  {
   "cell_type": "code",
   "execution_count": null,
   "id": "ef13a634",
   "metadata": {},
   "outputs": [],
   "source": [
    "#axis - number of columns sum by rows \n",
    "b.sum(axis=0)\n",
    "b.min(axis=0)\n",
    "b.max(axis=0)\n",
    "# cumulative sum alongb each row \n",
    "b.cumsum(axis=0)"
   ]
  },
  {
   "cell_type": "code",
   "execution_count": null,
   "id": "4d482853",
   "metadata": {},
   "outputs": [],
   "source": [
    "# reshape\n"
   ]
  },
  {
   "cell_type": "code",
   "execution_count": 38,
   "id": "acc48395",
   "metadata": {},
   "outputs": [
    {
     "name": "stdout",
     "output_type": "stream",
     "text": [
      "[1 2 3]\n",
      "1\n",
      "2\n",
      "3\n",
      "[4 5 6]\n",
      "4\n",
      "5\n",
      "6\n"
     ]
    }
   ],
   "source": [
    "# element array\n",
    "arr=np.array([[1,2,3],[4,5,6]])\n",
    "\n",
    "for i in arr:\n",
    "    print(i)\n",
    "    for y in i:\n",
    "        print(y)\n",
    "        "
   ]
  },
  {
   "cell_type": "code",
   "execution_count": null,
   "id": "8cef76d9",
   "metadata": {},
   "outputs": [],
   "source": [
    "# sort \n",
    "np.sort(arr)"
   ]
  },
  {
   "cell_type": "code",
   "execution_count": 36,
   "id": "4d855f92",
   "metadata": {},
   "outputs": [
    {
     "data": {
      "text/plain": [
       "array([[0.34702543, 0.57253002],\n",
       "       [0.32868801, 0.43977456]])"
      ]
     },
     "execution_count": 36,
     "metadata": {},
     "output_type": "execute_result"
    }
   ],
   "source": [
    "a = np.random.random([2,2])\n",
    "a\n"
   ]
  },
  {
   "cell_type": "code",
   "execution_count": 37,
   "id": "285f836c",
   "metadata": {},
   "outputs": [
    {
     "name": "stdout",
     "output_type": "stream",
     "text": [
      "0.5725300229823511\n"
     ]
    }
   ],
   "source": [
    "print(a[0,1])"
   ]
  },
  {
   "cell_type": "code",
   "execution_count": 39,
   "id": "c0e14fb4",
   "metadata": {},
   "outputs": [
    {
     "data": {
      "text/plain": [
       "24"
      ]
     },
     "execution_count": 39,
     "metadata": {},
     "output_type": "execute_result"
    }
   ],
   "source": [
    "#anynomus function)\n",
    "(lambda x: x*2)(12)"
   ]
  },
  {
   "cell_type": "code",
   "execution_count": 42,
   "id": "cf3e4bee",
   "metadata": {},
   "outputs": [
    {
     "data": {
      "text/plain": [
       "[2, 4, 6, 8]"
      ]
     },
     "execution_count": 42,
     "metadata": {},
     "output_type": "execute_result"
    }
   ],
   "source": [
    "list_1 = [1,2,3,4,5,6,7,8,9]\n",
    "filter(lambda x: x%2==0, list_1)\n",
    "list(filter(lambda x: x%2==0, list_1))\n",
    "\n"
   ]
  },
  {
   "cell_type": "code",
   "execution_count": 43,
   "id": "57193fc2",
   "metadata": {},
   "outputs": [
    {
     "data": {
      "text/plain": [
       "[1, 8, 27, 64, 125, 216, 343, 512, 729]"
      ]
     },
     "execution_count": 43,
     "metadata": {},
     "output_type": "execute_result"
    }
   ],
   "source": [
    "list_1 = [1,2,3,4,5,6,7,8,9]\n",
    "cubed = map(lambda x: pow(x,3), list_1)\n",
    "list(cubed)\n"
   ]
  },
  {
   "cell_type": "code",
   "execution_count": 44,
   "id": "8847d259",
   "metadata": {},
   "outputs": [
    {
     "data": {
      "text/plain": [
       "[1, 4, 9]"
      ]
     },
     "execution_count": 44,
     "metadata": {},
     "output_type": "execute_result"
    }
   ],
   "source": [
    "my_list = [ 1, 2, 3]\n",
    "list( map( lambda x: x**2, my_list ) ) "
   ]
  },
  {
   "cell_type": "code",
   "execution_count": 45,
   "id": "af696d75",
   "metadata": {},
   "outputs": [
    {
     "data": {
      "text/plain": [
       "[1]"
      ]
     },
     "execution_count": 45,
     "metadata": {},
     "output_type": "execute_result"
    }
   ],
   "source": [
    "# filter compare the elements (condition)\n",
    "my_list = [ 1, 2, 3 ]\n",
    "list( filter( lambda x: x<2, my_list ) ) \n"
   ]
  },
  {
   "cell_type": "code",
   "execution_count": 48,
   "id": "fb8c6a4a",
   "metadata": {},
   "outputs": [
    {
     "data": {
      "text/plain": [
       "6"
      ]
     },
     "execution_count": 48,
     "metadata": {},
     "output_type": "execute_result"
    }
   ],
   "source": [
    "# reduce\n",
    "from functools import reduce\n",
    "my_list = [ 1, 2, 3 ]\n",
    "reduce(lambda x, y: x + y, my_list) \n"
   ]
  },
  {
   "cell_type": "code",
   "execution_count": 50,
   "id": "cccd3b1b",
   "metadata": {},
   "outputs": [
    {
     "data": {
      "text/plain": [
       "8"
      ]
     },
     "execution_count": 50,
     "metadata": {},
     "output_type": "execute_result"
    }
   ],
   "source": [
    "my_list = [ 1, 2, 4 ]\n",
    "reduce(lambda x, y: x*y, my_list) \n",
    "\n"
   ]
  },
  {
   "cell_type": "code",
   "execution_count": 58,
   "id": "08852670",
   "metadata": {},
   "outputs": [],
   "source": [
    "import math"
   ]
  },
  {
   "cell_type": "code",
   "execution_count": 59,
   "id": "2cf3c4f7",
   "metadata": {},
   "outputs": [],
   "source": [
    "def area(r):\n",
    "    return math.pi * (r**2)\n"
   ]
  },
  {
   "cell_type": "code",
   "execution_count": 60,
   "id": "a6a6db7c",
   "metadata": {},
   "outputs": [],
   "source": [
    "radii = [2,5,7.1,0.3,10]"
   ]
  },
  {
   "cell_type": "code",
   "execution_count": 62,
   "id": "8c0dab12",
   "metadata": {},
   "outputs": [
    {
     "name": "stdout",
     "output_type": "stream",
     "text": [
      "[12.566370614359172, 78.53981633974483, 158.36768566746147, 0.2827433388230814, 314.1592653589793]\n"
     ]
    }
   ],
   "source": [
    "results = []\n",
    "for i in radii:\n",
    "    results.append(area(i))\n",
    "print(results)"
   ]
  },
  {
   "cell_type": "code",
   "execution_count": null,
   "id": "55b5c042",
   "metadata": {},
   "outputs": [],
   "source": [
    "results.append(math)"
   ]
  },
  {
   "cell_type": "code",
   "execution_count": null,
   "id": "9b86892a",
   "metadata": {},
   "outputs": [],
   "source": [
    "results = list(map(area,result))"
   ]
  },
  {
   "cell_type": "code",
   "execution_count": null,
   "id": "73964a12",
   "metadata": {},
   "outputs": [],
   "source": [
    "import statistics\n",
    "data = [1.5,9.2,3.4,5.1,-9.4]\n",
    "avg = statistics "
   ]
  },
  {
   "cell_type": "code",
   "execution_count": null,
   "id": "84d22ebc",
   "metadata": {},
   "outputs": [],
   "source": [
    "list(filter(lambda x: x>avg,data))"
   ]
  },
  {
   "cell_type": "code",
   "execution_count": null,
   "id": "9feacdf3",
   "metadata": {},
   "outputs": [],
   "source": [
    "from functools import reduce \n",
    "my_list = [1,2,3,]\n",
    "reduce(lambda)"
   ]
  },
  {
   "cell_type": "code",
   "execution_count": null,
   "id": "78c68805",
   "metadata": {},
   "outputs": [],
   "source": [
    "def concatentor(x,y):\n",
    "    return x+\" \"+y"
   ]
  },
  {
   "cell_type": "code",
   "execution_count": null,
   "id": "199ba60b",
   "metadata": {},
   "outputs": [],
   "source": [
    "reduce(concatenation, names)"
   ]
  }
 ],
 "metadata": {
  "kernelspec": {
   "display_name": "Python 3 (ipykernel)",
   "language": "python",
   "name": "python3"
  },
  "language_info": {
   "codemirror_mode": {
    "name": "ipython",
    "version": 3
   },
   "file_extension": ".py",
   "mimetype": "text/x-python",
   "name": "python",
   "nbconvert_exporter": "python",
   "pygments_lexer": "ipython3",
   "version": "3.9.7"
  }
 },
 "nbformat": 4,
 "nbformat_minor": 5
}
