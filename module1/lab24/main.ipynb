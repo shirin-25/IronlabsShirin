{
 "cells": [
  {
   "cell_type": "markdown",
   "metadata": {},
   "source": [
    "# Intrduction to NumPy\n",
    "\n",
    "\n",
    "#### 1. Import NumPy under the name np."
   ]
  },
  {
   "cell_type": "code",
   "execution_count": 6,
   "metadata": {},
   "outputs": [],
   "source": [
    "# your code here\n",
    "import numpy as np"
   ]
  },
  {
   "cell_type": "markdown",
   "metadata": {},
   "source": [
    "#### 2. Print your NumPy version."
   ]
  },
  {
   "cell_type": "code",
   "execution_count": 7,
   "metadata": {},
   "outputs": [
    {
     "name": "stdout",
     "output_type": "stream",
     "text": [
      "1.20.3\n"
     ]
    }
   ],
   "source": [
    "# your code here \n",
    "print(np.__version__)"
   ]
  },
  {
   "cell_type": "markdown",
   "metadata": {},
   "source": [
    "#### 3. Generate a 2x3x5 3-dimensional array with random values. Assign the array to variable *a*.\n",
    "**Challenge**: there are at least three easy ways that use numpy to generate random arrays. How many ways can you find?"
   ]
  },
  {
   "cell_type": "code",
   "execution_count": 10,
   "metadata": {},
   "outputs": [
    {
     "name": "stdout",
     "output_type": "stream",
     "text": [
      "[[[1 1 1 1 1]\n",
      "  [1 1 1 1 1]\n",
      "  [1 1 1 1 1]]\n",
      "\n",
      " [[1 1 1 1 1]\n",
      "  [1 1 1 1 1]\n",
      "  [1 1 1 1 1]]]\n"
     ]
    }
   ],
   "source": [
    "# Method 1\n",
    "a= np.ones((2,3,5), dtype=int)\n",
    "print(a)"
   ]
  },
  {
   "cell_type": "code",
   "execution_count": 11,
   "metadata": {},
   "outputs": [
    {
     "name": "stdout",
     "output_type": "stream",
     "text": [
      "[[[0.73446763 0.97936664 0.06722777 0.08085739 0.99966713]\n",
      "  [0.12207224 0.27885884 0.83718699 0.59325718 0.58203489]\n",
      "  [0.94871149 0.05710755 0.61113752 0.83040592 0.10302349]]\n",
      "\n",
      " [[0.79629809 0.03071529 0.89998041 0.04220287 0.8573083 ]\n",
      "  [0.40087713 0.70588227 0.88188263 0.6738536  0.86699864]\n",
      "  [0.31157897 0.09406444 0.73920212 0.65030992 0.64337147]]]\n"
     ]
    }
   ],
   "source": [
    "# Method 2\n",
    "a = np.random.random([2,3,5])\n",
    "print(a)"
   ]
  },
  {
   "cell_type": "code",
   "execution_count": 12,
   "metadata": {
    "scrolled": true
   },
   "outputs": [
    {
     "name": "stdout",
     "output_type": "stream",
     "text": [
      "[[[0.17312527 0.74899111 0.38164094 0.52134798 0.75071389]\n",
      "  [0.41343187 0.38479746 0.53128869 0.96773093 0.44015156]\n",
      "  [0.38837084 0.32072629 0.67486894 0.00781393 0.42204709]]\n",
      "\n",
      " [[0.41471422 0.00629057 0.79616301 0.38723257 0.67608509]\n",
      "  [0.55575703 0.06420368 0.40655286 0.14699963 0.09504476]\n",
      "  [0.34364028 0.31168193 0.8673418  0.53368105 0.011481  ]]]\n"
     ]
    }
   ],
   "source": [
    "# Method 3\n",
    "a=np.random.sample([2,3,5])\n",
    "print(a)"
   ]
  },
  {
   "cell_type": "markdown",
   "metadata": {},
   "source": [
    "#### 4. Print *a*.\n"
   ]
  },
  {
   "cell_type": "code",
   "execution_count": 13,
   "metadata": {},
   "outputs": [
    {
     "name": "stdout",
     "output_type": "stream",
     "text": [
      "[[[0.17312527 0.74899111 0.38164094 0.52134798 0.75071389]\n",
      "  [0.41343187 0.38479746 0.53128869 0.96773093 0.44015156]\n",
      "  [0.38837084 0.32072629 0.67486894 0.00781393 0.42204709]]\n",
      "\n",
      " [[0.41471422 0.00629057 0.79616301 0.38723257 0.67608509]\n",
      "  [0.55575703 0.06420368 0.40655286 0.14699963 0.09504476]\n",
      "  [0.34364028 0.31168193 0.8673418  0.53368105 0.011481  ]]]\n"
     ]
    }
   ],
   "source": [
    "# your code here\n",
    "print(a)"
   ]
  },
  {
   "cell_type": "markdown",
   "metadata": {},
   "source": [
    "#### 5. Create a 5x2x3 3-dimensional array with all values equaling 1. Assign the array to variable *b*."
   ]
  },
  {
   "cell_type": "code",
   "execution_count": 14,
   "metadata": {},
   "outputs": [],
   "source": [
    "# your code here\n",
    "b = np.ones((5,2,3), dtype=int)\n"
   ]
  },
  {
   "cell_type": "markdown",
   "metadata": {},
   "source": [
    "#### 6. Print *b*.\n"
   ]
  },
  {
   "cell_type": "code",
   "execution_count": 15,
   "metadata": {},
   "outputs": [
    {
     "name": "stdout",
     "output_type": "stream",
     "text": [
      "[[[1 1 1]\n",
      "  [1 1 1]]\n",
      "\n",
      " [[1 1 1]\n",
      "  [1 1 1]]\n",
      "\n",
      " [[1 1 1]\n",
      "  [1 1 1]]\n",
      "\n",
      " [[1 1 1]\n",
      "  [1 1 1]]\n",
      "\n",
      " [[1 1 1]\n",
      "  [1 1 1]]]\n"
     ]
    }
   ],
   "source": [
    "# your code here\n",
    "print(b)"
   ]
  },
  {
   "cell_type": "markdown",
   "metadata": {},
   "source": [
    "#### 7. Do *a* and *b* have the same size? How do you prove that in Python code?"
   ]
  },
  {
   "cell_type": "code",
   "execution_count": 19,
   "metadata": {},
   "outputs": [
    {
     "name": "stdout",
     "output_type": "stream",
     "text": [
      "30\n",
      "30\n"
     ]
    }
   ],
   "source": [
    "# your code here\n",
    "size_a = 0\n",
    "\n",
    "for i in a:\n",
    "    for j in i:\n",
    "        for z in j:\n",
    "            size_a += 1\n",
    "\n",
    "size_b = 0\n",
    "\n",
    "for i in b:\n",
    "    for j in i:\n",
    "        for z in j:\n",
    "            size_b += 1\n",
    "            \n",
    "print(size_a)\n",
    "print(size_b)"
   ]
  },
  {
   "cell_type": "code",
   "execution_count": 22,
   "metadata": {},
   "outputs": [
    {
     "name": "stdout",
     "output_type": "stream",
     "text": [
      "30\n"
     ]
    }
   ],
   "source": [
    "print(a.shape[0]*a.shape[1]*a.shape[2])"
   ]
  },
  {
   "cell_type": "code",
   "execution_count": 23,
   "metadata": {},
   "outputs": [
    {
     "name": "stdout",
     "output_type": "stream",
     "text": [
      "30\n"
     ]
    }
   ],
   "source": [
    "print(b.shape[0]*b.shape[1]*b.shape[2])"
   ]
  },
  {
   "cell_type": "markdown",
   "metadata": {},
   "source": [
    "#### 8. Are you able to add *a* and *b*? Why or why not?\n"
   ]
  },
  {
   "cell_type": "code",
   "execution_count": null,
   "metadata": {},
   "outputs": [],
   "source": []
  },
  {
   "cell_type": "code",
   "execution_count": 20,
   "metadata": {},
   "outputs": [
    {
     "ename": "ValueError",
     "evalue": "operands could not be broadcast together with shapes (2,3,5) (5,2,3) ",
     "output_type": "error",
     "traceback": [
      "\u001b[0;31m---------------------------------------------------------------------------\u001b[0m",
      "\u001b[0;31mValueError\u001b[0m                                Traceback (most recent call last)",
      "\u001b[0;32m/var/folders/cl/lbql31ls26l5z9t2g92jwx_m0000gn/T/ipykernel_78562/3476268259.py\u001b[0m in \u001b[0;36m<module>\u001b[0;34m\u001b[0m\n\u001b[1;32m      1\u001b[0m \u001b[0;31m# your answer here\u001b[0m\u001b[0;34m\u001b[0m\u001b[0;34m\u001b[0m\u001b[0m\n\u001b[0;32m----> 2\u001b[0;31m \u001b[0ma\u001b[0m\u001b[0;34m+\u001b[0m\u001b[0mb\u001b[0m\u001b[0;34m\u001b[0m\u001b[0;34m\u001b[0m\u001b[0m\n\u001b[0m",
      "\u001b[0;31mValueError\u001b[0m: operands could not be broadcast together with shapes (2,3,5) (5,2,3) "
     ]
    }
   ],
   "source": [
    "# your answer here\n",
    "a+b\n"
   ]
  },
  {
   "cell_type": "markdown",
   "metadata": {},
   "source": [
    "#### 9. Transpose *b* so that it has the same structure of *a* (i.e. become a 2x3x5 array). Assign the transposed array to variable *c*."
   ]
  },
  {
   "cell_type": "code",
   "execution_count": 24,
   "metadata": {},
   "outputs": [],
   "source": [
    "# your code here\n",
    "c = b.reshape(2, 3, 5)"
   ]
  },
  {
   "cell_type": "markdown",
   "metadata": {},
   "source": [
    "#### 10. Try to add *a* and *c*. Now it should work. Assign the sum to variable *d*. But why does it work now?"
   ]
  },
  {
   "cell_type": "code",
   "execution_count": 33,
   "metadata": {},
   "outputs": [
    {
     "data": {
      "text/plain": [
       "array([[[1.17312527, 1.74899111, 1.38164094, 1.52134798, 1.75071389],\n",
       "        [1.41343187, 1.38479746, 1.53128869, 1.96773093, 1.44015156],\n",
       "        [1.38837084, 1.32072629, 1.67486894, 1.00781393, 1.42204709]],\n",
       "\n",
       "       [[1.41471422, 1.00629057, 1.79616301, 1.38723257, 1.67608509],\n",
       "        [1.55575703, 1.06420368, 1.40655286, 1.14699963, 1.09504476],\n",
       "        [1.34364028, 1.31168193, 1.8673418 , 1.53368105, 1.011481  ]]])"
      ]
     },
     "execution_count": 33,
     "metadata": {},
     "output_type": "execute_result"
    }
   ],
   "source": [
    "# your code/answer here\n",
    "d = a+c\n",
    "d"
   ]
  },
  {
   "cell_type": "markdown",
   "metadata": {},
   "source": [
    "#### 11. Print *a* and *d*. Notice the difference and relation of the two array in terms of the values? Explain."
   ]
  },
  {
   "cell_type": "code",
   "execution_count": 34,
   "metadata": {},
   "outputs": [
    {
     "name": "stdout",
     "output_type": "stream",
     "text": [
      "[[[0.17312527 0.74899111 0.38164094 0.52134798 0.75071389]\n",
      "  [0.41343187 0.38479746 0.53128869 0.96773093 0.44015156]\n",
      "  [0.38837084 0.32072629 0.67486894 0.00781393 0.42204709]]\n",
      "\n",
      " [[0.41471422 0.00629057 0.79616301 0.38723257 0.67608509]\n",
      "  [0.55575703 0.06420368 0.40655286 0.14699963 0.09504476]\n",
      "  [0.34364028 0.31168193 0.8673418  0.53368105 0.011481  ]]]\n",
      "[[[1.17312527 1.74899111 1.38164094 1.52134798 1.75071389]\n",
      "  [1.41343187 1.38479746 1.53128869 1.96773093 1.44015156]\n",
      "  [1.38837084 1.32072629 1.67486894 1.00781393 1.42204709]]\n",
      "\n",
      " [[1.41471422 1.00629057 1.79616301 1.38723257 1.67608509]\n",
      "  [1.55575703 1.06420368 1.40655286 1.14699963 1.09504476]\n",
      "  [1.34364028 1.31168193 1.8673418  1.53368105 1.011481  ]]]\n"
     ]
    }
   ],
   "source": [
    "# your code/answer here\n",
    "print(a)\n",
    "print(d)"
   ]
  },
  {
   "cell_type": "markdown",
   "metadata": {},
   "source": [
    "#### 12. Multiply *a* and *c*. Assign the result to *e*."
   ]
  },
  {
   "cell_type": "code",
   "execution_count": 38,
   "metadata": {},
   "outputs": [
    {
     "name": "stdout",
     "output_type": "stream",
     "text": [
      "[[[0.17312527 0.74899111 0.38164094 0.52134798 0.75071389]\n",
      "  [0.41343187 0.38479746 0.53128869 0.96773093 0.44015156]\n",
      "  [0.38837084 0.32072629 0.67486894 0.00781393 0.42204709]]\n",
      "\n",
      " [[0.41471422 0.00629057 0.79616301 0.38723257 0.67608509]\n",
      "  [0.55575703 0.06420368 0.40655286 0.14699963 0.09504476]\n",
      "  [0.34364028 0.31168193 0.8673418  0.53368105 0.011481  ]]]\n"
     ]
    }
   ],
   "source": [
    "# your code here\n",
    "e = a*c\n",
    "print(e)\n"
   ]
  },
  {
   "cell_type": "markdown",
   "metadata": {},
   "source": [
    "#### 13. Does *e* equal to *a*? Why or why not?\n"
   ]
  },
  {
   "cell_type": "code",
   "execution_count": 39,
   "metadata": {},
   "outputs": [
    {
     "name": "stdout",
     "output_type": "stream",
     "text": [
      "[[[ True  True  True  True  True]\n",
      "  [ True  True  True  True  True]\n",
      "  [ True  True  True  True  True]]\n",
      "\n",
      " [[ True  True  True  True  True]\n",
      "  [ True  True  True  True  True]\n",
      "  [ True  True  True  True  True]]]\n"
     ]
    }
   ],
   "source": [
    "# your code/answer here\n",
    "print(e==a)"
   ]
  },
  {
   "cell_type": "markdown",
   "metadata": {},
   "source": [
    "#### 14. Identify the max, min, and mean values in *d*. Assign those values to variables *d_max*, *d_min* and *d_mean*."
   ]
  },
  {
   "cell_type": "code",
   "execution_count": 42,
   "metadata": {},
   "outputs": [
    {
     "name": "stdout",
     "output_type": "stream",
     "text": [
      "1.9677309281700737\n",
      "1.0062905740609867\n",
      "1.4247972082299087\n"
     ]
    }
   ],
   "source": [
    "# your code here\n",
    "d_max=np.max(d)\n",
    "d_min=np.min(d)\n",
    "d_mean=np.mean(d)\n",
    "print(d_max)\n",
    "print(d_min)\n",
    "print(d_mean)"
   ]
  },
  {
   "cell_type": "markdown",
   "metadata": {},
   "source": [
    "#### 15. Now we want to label the values in *d*. First create an empty array *f* with the same shape (i.e. 2x3x5) as *d* using `np.empty`.\n"
   ]
  },
  {
   "cell_type": "code",
   "execution_count": 52,
   "metadata": {},
   "outputs": [
    {
     "name": "stdout",
     "output_type": "stream",
     "text": [
      "[[[0.17312527 0.74899111 0.38164094 0.52134798 0.75071389]\n",
      "  [0.41343187 0.38479746 0.53128869 0.96773093 0.44015156]\n",
      "  [0.38837084 0.32072629 0.67486894 0.00781393 0.42204709]]\n",
      "\n",
      " [[0.41471422 0.00629057 0.79616301 0.38723257 0.67608509]\n",
      "  [0.55575703 0.06420368 0.40655286 0.14699963 0.09504476]\n",
      "  [0.34364028 0.31168193 0.8673418  0.53368105 0.011481  ]]]\n"
     ]
    }
   ],
   "source": [
    "# your code here\n",
    "f=np.empty([2,3,5])\n",
    "print(f)\n",
    "\n"
   ]
  },
  {
   "cell_type": "markdown",
   "metadata": {},
   "source": [
    "#### 16. Populate the values in *f*. \n",
    "\n",
    "For each value in *d*, if it's larger than *d_min* but smaller than *d_mean*, assign 25 to the corresponding value in *f*. If a value in *d* is larger than *d_mean* but smaller than *d_max*, assign 75 to the corresponding value in *f*. If a value equals to *d_mean*, assign 50 to the corresponding value in *f*. Assign 0 to the corresponding value(s) in *f* for *d_min* in *d*. Assign 100 to the corresponding value(s) in *f* for *d_max* in *d*. In the end, f should have only the following values: 0, 25, 50, 75, and 100.\n",
    "\n",
    "**Note**: you don't have to use Numpy in this question."
   ]
  },
  {
   "cell_type": "code",
   "execution_count": 63,
   "metadata": {},
   "outputs": [
    {
     "name": "stdout",
     "output_type": "stream",
     "text": [
      "[[[0.17312527 0.74899111 0.38164094 0.52134798 0.75071389]\n",
      "  [0.41343187 0.38479746 0.53128869 0.96773093 0.44015156]\n",
      "  [0.38837084 0.32072629 0.67486894 0.00781393 0.42204709]]\n",
      "\n",
      " [[0.41471422 0.00629057 0.79616301 0.38723257 0.67608509]\n",
      "  [0.55575703 0.06420368 0.40655286 0.14699963 0.09504476]\n",
      "  [0.34364028 0.31168193 0.8673418  0.53368105 0.011481  ]]]\n"
     ]
    }
   ],
   "source": [
    "# your code here\n",
    "#for i in f:\n",
    "#    for j in i:\n",
    "#        for z in j:\n",
    "#            print(z)\n",
    "    \n",
    "for i in range(f.shape[0]):\n",
    "    for j in range(f.shape[1]):\n",
    "        for z in range(f.shape[2]):\n",
    "            if f[i][j][z] == d_max:\n",
    "                f[i][j][z] = 100\n",
    "            elif d_mean< f[i][j][z]<  d_max :\n",
    "                f[i][j][z] = 75\n",
    "            elif f[i][j][z] == d_mean:\n",
    "                f[i][j][z] = 50\n",
    "            elif d_min< f[i][j][z]<  d_mean :\n",
    "                f[i][j][z] = 25\n",
    "            elif f[i][j][z] == d_min:\n",
    "                f[i][j][z] = 0\n",
    "            \n",
    "\n",
    "print(f)\n"
   ]
  },
  {
   "cell_type": "markdown",
   "metadata": {},
   "source": [
    "#### 17. Print *d* and *f*. Do you have your expected *f*?\n",
    "For instance, if your *d* is:\n",
    "```python\n",
    "[[[1.85836099, 1.67064465, 1.62576044, 1.40243961, 1.88454931],\n",
    "[1.75354326, 1.69403643, 1.36729252, 1.61415071, 1.12104981],\n",
    "[1.72201435, 1.1862918 , 1.87078449, 1.7726778 , 1.88180042]],\n",
    "[[1.44747908, 1.31673383, 1.02000951, 1.52218947, 1.97066381],\n",
    "[1.79129243, 1.74983003, 1.96028037, 1.85166831, 1.65450881],\n",
    "[1.18068344, 1.9587381 , 1.00656599, 1.93402165, 1.73514584]]]\n",
    "```\n",
    "Your *f* should be:\n",
    "```python\n",
    "[[[ 75.,  75.,  75.,  25.,  75.],\n",
    "[ 75.,  75.,  25.,  25.,  25.],\n",
    "[ 75.,  25.,  75.,  75.,  75.]],\n",
    "[[ 25.,  25.,  25.,  25., 100.],\n",
    "[ 75.,  75.,  75.,  75.,  75.],\n",
    "[ 25.,  75.,   0.,  75.,  75.]]]\n",
    "```"
   ]
  },
  {
   "cell_type": "code",
   "execution_count": 62,
   "metadata": {},
   "outputs": [
    {
     "name": "stdout",
     "output_type": "stream",
     "text": [
      "[[[1.17312527 1.74899111 1.38164094 1.52134798 1.75071389]\n",
      "  [1.41343187 1.38479746 1.53128869 1.96773093 1.44015156]\n",
      "  [1.38837084 1.32072629 1.67486894 1.00781393 1.42204709]]\n",
      "\n",
      " [[1.41471422 1.00629057 1.79616301 1.38723257 1.67608509]\n",
      "  [1.55575703 1.06420368 1.40655286 1.14699963 1.09504476]\n",
      "  [1.34364028 1.31168193 1.8673418  1.53368105 1.011481  ]]]\n",
      "[[[0.17312527 0.74899111 0.38164094 0.52134798 0.75071389]\n",
      "  [0.41343187 0.38479746 0.53128869 0.96773093 0.44015156]\n",
      "  [0.38837084 0.32072629 0.67486894 0.00781393 0.42204709]]\n",
      "\n",
      " [[0.41471422 0.00629057 0.79616301 0.38723257 0.67608509]\n",
      "  [0.55575703 0.06420368 0.40655286 0.14699963 0.09504476]\n",
      "  [0.34364028 0.31168193 0.8673418  0.53368105 0.011481  ]]]\n"
     ]
    }
   ],
   "source": [
    "# your code here\n",
    "print(d)\n",
    "print(f)"
   ]
  },
  {
   "cell_type": "markdown",
   "metadata": {},
   "source": [
    "#### 18. Bonus question: instead of using numbers (i.e. 0, 25, 50, 75, and 100), use string values  (\"A\", \"B\", \"C\", \"D\", and \"E\") to label the array elements. For the example above, the expected result is:\n",
    "\n",
    "```python\n",
    "[[[ 'D',  'D',  'D',  'B',  'D'],\n",
    "[ 'D',  'D',  'B',  'B',  'B'],\n",
    "[ 'D',  'B',  'D',  'D',  'D']],\n",
    "[[ 'B',  'B',  'B',  'B',  'E'],\n",
    "[ 'D',  'D',  'D',  'D',  'D'],\n",
    "[ 'B',  'D',   'A',  'D', 'D']]]\n",
    "```\n",
    "**Note**: you don't have to use Numpy in this question."
   ]
  },
  {
   "cell_type": "code",
   "execution_count": null,
   "metadata": {},
   "outputs": [],
   "source": [
    "# your code here"
   ]
  }
 ],
 "metadata": {
  "kernelspec": {
   "display_name": "Python 3 (ipykernel)",
   "language": "python",
   "name": "python3"
  },
  "language_info": {
   "codemirror_mode": {
    "name": "ipython",
    "version": 3
   },
   "file_extension": ".py",
   "mimetype": "text/x-python",
   "name": "python",
   "nbconvert_exporter": "python",
   "pygments_lexer": "ipython3",
   "version": "3.9.7"
  }
 },
 "nbformat": 4,
 "nbformat_minor": 2
}
