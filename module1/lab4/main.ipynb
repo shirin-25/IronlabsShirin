{
 "cells": [
  {
   "cell_type": "markdown",
   "metadata": {},
   "source": [
    "# List Comprehensions\n",
    "\n",
    "Complete the following set of exercises to solidify your knowledge of list comprehensions."
   ]
  },
  {
   "cell_type": "code",
   "execution_count": 40,
   "metadata": {},
   "outputs": [],
   "source": [
    "import os;"
   ]
  },
  {
   "cell_type": "markdown",
   "metadata": {},
   "source": [
    "#### 1. Use a list comprehension to create and print a list of consecutive integers starting with 1 and ending with 50."
   ]
  },
  {
   "cell_type": "code",
   "execution_count": 1,
   "metadata": {},
   "outputs": [
    {
     "name": "stdout",
     "output_type": "stream",
     "text": [
      "[1, 2, 3, 4, 5, 6, 7, 8, 9, 10, 11, 12, 13, 14, 15, 16, 17, 18, 19, 20, 21, 22, 23, 24, 25, 26, 27, 28, 29, 30, 31, 32, 33, 34, 35, 36, 37, 38, 39, 40, 41, 42, 43, 44, 45, 46, 47, 48, 49, 50]\n"
     ]
    }
   ],
   "source": [
    "x = [x for x in range(1,51)]\n",
    "print(x)"
   ]
  },
  {
   "cell_type": "markdown",
   "metadata": {},
   "source": [
    "#### 2. Use a list comprehension to create and print a list of even numbers starting with 2 and ending with 200."
   ]
  },
  {
   "cell_type": "code",
   "execution_count": 2,
   "metadata": {},
   "outputs": [
    {
     "name": "stdout",
     "output_type": "stream",
     "text": [
      "[2, 4, 6, 8, 10, 12, 14, 16, 18, 20, 22, 24, 26, 28, 30, 32, 34, 36, 38, 40, 42, 44, 46, 48, 50, 52, 54, 56, 58, 60, 62, 64, 66, 68, 70, 72, 74, 76, 78, 80, 82, 84, 86, 88, 90, 92, 94, 96, 98, 100, 102, 104, 106, 108, 110, 112, 114, 116, 118, 120, 122, 124, 126, 128, 130, 132, 134, 136, 138, 140, 142, 144, 146, 148, 150, 152, 154, 156, 158, 160, 162, 164, 166, 168, 170, 172, 174, 176, 178, 180, 182, 184, 186, 188, 190, 192, 194, 196, 198, 200]\n"
     ]
    }
   ],
   "source": [
    "y = [y for y in range (2,202,2)]\n",
    "print(y)"
   ]
  },
  {
   "cell_type": "code",
   "execution_count": 4,
   "metadata": {},
   "outputs": [
    {
     "name": "stdout",
     "output_type": "stream",
     "text": [
      "[2, 4, 6, 8, 10, 12, 14, 16, 18, 20, 22, 24, 26, 28, 30, 32, 34, 36, 38, 40, 42, 44, 46, 48, 50, 52, 54, 56, 58, 60, 62, 64, 66, 68, 70, 72, 74, 76, 78, 80, 82, 84, 86, 88, 90, 92, 94, 96, 98, 100, 102, 104, 106, 108, 110, 112, 114, 116, 118, 120, 122, 124, 126, 128, 130, 132, 134, 136, 138, 140, 142, 144, 146, 148, 150, 152, 154, 156, 158, 160, 162, 164, 166, 168, 170, 172, 174, 176, 178, 180, 182, 184, 186, 188, 190, 192, 194, 196, 198, 200]\n"
     ]
    }
   ],
   "source": [
    "y = [y for y in range (2,202) if y%2==0]\n",
    "print(y)"
   ]
  },
  {
   "cell_type": "markdown",
   "metadata": {},
   "source": [
    "#### 3. Use a list comprehension to create and print a list containing all elements of the 10 x 4 array below."
   ]
  },
  {
   "cell_type": "code",
   "execution_count": 13,
   "metadata": {},
   "outputs": [],
   "source": [
    "a = [[0.84062117, 0.48006452, 0.7876326 , 0.77109654],\n",
    "       [0.44409793, 0.09014516, 0.81835917, 0.87645456],\n",
    "       [0.7066597 , 0.09610873, 0.41247947, 0.57433389],\n",
    "       [0.29960807, 0.42315023, 0.34452557, 0.4751035 ],\n",
    "       [0.17003563, 0.46843998, 0.92796258, 0.69814654],\n",
    "       [0.41290051, 0.19561071, 0.16284783, 0.97016248],\n",
    "       [0.71725408, 0.87702738, 0.31244595, 0.76615487],\n",
    "       [0.20754036, 0.57871812, 0.07214068, 0.40356048],\n",
    "       [0.12149553, 0.53222417, 0.9976855 , 0.12536346],\n",
    "       [0.80930099, 0.50962849, 0.94555126, 0.33364763]];"
   ]
  },
  {
   "cell_type": "code",
   "execution_count": 16,
   "metadata": {},
   "outputs": [
    {
     "name": "stdout",
     "output_type": "stream",
     "text": [
      "0.92796258\n"
     ]
    }
   ],
   "source": [
    "c = a[4][2]\n",
    "print(c)"
   ]
  },
  {
   "cell_type": "code",
   "execution_count": 9,
   "metadata": {},
   "outputs": [
    {
     "name": "stdout",
     "output_type": "stream",
     "text": [
      "[0.84062117, 0.48006452, 0.7876326, 0.77109654, 0.44409793, 0.09014516, 0.81835917, 0.87645456, 0.7066597, 0.09610873, 0.41247947, 0.57433389, 0.29960807, 0.42315023, 0.34452557, 0.4751035, 0.17003563, 0.46843998, 0.92796258, 0.69814654, 0.41290051, 0.19561071, 0.16284783, 0.97016248, 0.71725408, 0.87702738, 0.31244595, 0.76615487, 0.20754036, 0.57871812, 0.07214068, 0.40356048, 0.12149553, 0.53222417, 0.9976855, 0.12536346, 0.80930099, 0.50962849, 0.94555126, 0.33364763]\n"
     ]
    }
   ],
   "source": [
    "b = [a[x][y] for x in range(0,10) for y in range(0,4)]\n",
    "print(b)\n",
    "# a[0][0] , a[0][1] , a[0][2], a[0][3] , a[1][0] , a[1][1] .....  a[9][3] "
   ]
  },
  {
   "cell_type": "markdown",
   "metadata": {},
   "source": [
    "#### 4. Add a condition to the list comprehension above so that only values greater than or equal to 0.5 are printed."
   ]
  },
  {
   "cell_type": "code",
   "execution_count": 17,
   "metadata": {},
   "outputs": [
    {
     "name": "stdout",
     "output_type": "stream",
     "text": [
      "[0.84062117, 0.7876326, 0.77109654, 0.81835917, 0.87645456, 0.7066597, 0.57433389, 0.92796258, 0.69814654, 0.97016248, 0.71725408, 0.87702738, 0.76615487, 0.57871812, 0.53222417, 0.9976855, 0.80930099, 0.50962849, 0.94555126]\n"
     ]
    }
   ],
   "source": [
    "b = [a[x][y] for x in range(0,10) for y in range(0,4) if a[x][y] >= 0.5]\n",
    "print(b)"
   ]
  },
  {
   "cell_type": "markdown",
   "metadata": {},
   "source": [
    "#### 5. Use a list comprehension to create and print a list containing all elements of the 5 x 2 x 3 array below."
   ]
  },
  {
   "cell_type": "code",
   "execution_count": 20,
   "metadata": {},
   "outputs": [],
   "source": [
    "b = [[[0.55867166, 0.06210792, 0.08147297],\n",
    "        [0.82579068, 0.91512478, 0.06833034]],\n",
    "\n",
    "       [[0.05440634, 0.65857693, 0.30296619],\n",
    "        [0.06769833, 0.96031863, 0.51293743]],\n",
    "\n",
    "       [[0.09143215, 0.71893382, 0.45850679],\n",
    "        [0.58256464, 0.59005654, 0.56266457]],\n",
    "\n",
    "       [[0.71600294, 0.87392666, 0.11434044],\n",
    "        [0.8694668 , 0.65669313, 0.10708681]],\n",
    "\n",
    "       [[0.07529684, 0.46470767, 0.47984544],\n",
    "        [0.65368638, 0.14901286, 0.23760688]]];"
   ]
  },
  {
   "cell_type": "code",
   "execution_count": 23,
   "metadata": {},
   "outputs": [
    {
     "name": "stdout",
     "output_type": "stream",
     "text": [
      "[0.55867166, 0.06210792, 0.08147297, 0.82579068, 0.91512478, 0.06833034, 0.05440634, 0.65857693, 0.30296619, 0.06769833, 0.96031863, 0.51293743, 0.09143215, 0.71893382, 0.45850679, 0.58256464, 0.59005654, 0.56266457, 0.71600294, 0.87392666, 0.11434044, 0.8694668, 0.65669313, 0.10708681, 0.07529684, 0.46470767, 0.47984544, 0.65368638, 0.14901286, 0.23760688]\n"
     ]
    }
   ],
   "source": [
    "c = [b[x][y][z] for x in range(0,5) for y in range(0,2) for z in range(0,3)]\n",
    "print(c)"
   ]
  },
  {
   "cell_type": "markdown",
   "metadata": {},
   "source": [
    "#### 6. Add a condition to the list comprehension above so that the last value in each subarray is printed, but only if it is less than or equal to 0.5."
   ]
  },
  {
   "cell_type": "code",
   "execution_count": 27,
   "metadata": {},
   "outputs": [
    {
     "name": "stdout",
     "output_type": "stream",
     "text": [
      "[0.06210792, 0.08147297, 0.06833034, 0.05440634, 0.30296619, 0.06769833, 0.09143215, 0.45850679, 0.11434044, 0.10708681, 0.07529684, 0.46470767, 0.47984544, 0.14901286, 0.23760688]\n"
     ]
    }
   ],
   "source": [
    "d = [b[x][y][z] for x in range(0,5) for y in range(0,2) for z in range(0,3) if b[x][y][z] <= 0.5]\n",
    "print(d)"
   ]
  },
  {
   "cell_type": "markdown",
   "metadata": {},
   "source": [
    "#### 7. Use a list comprehension to select and print the names of all CSV files in the */data* directory."
   ]
  },
  {
   "cell_type": "code",
   "execution_count": 28,
   "metadata": {},
   "outputs": [
    {
     "name": "stdout",
     "output_type": "stream",
     "text": [
      "README.md   main.ipynb\r\n"
     ]
    }
   ],
   "source": [
    "ls"
   ]
  },
  {
   "cell_type": "code",
   "execution_count": 29,
   "metadata": {},
   "outputs": [
    {
     "name": "stdout",
     "output_type": "stream",
     "text": [
      "/Users/akbare/Desktop/IronhackDA/DAFT_212/Module_1\n"
     ]
    }
   ],
   "source": [
    "cd .."
   ]
  },
  {
   "cell_type": "code",
   "execution_count": 35,
   "metadata": {},
   "outputs": [
    {
     "name": "stdout",
     "output_type": "stream",
     "text": [
      "\u001b[34mLab_0_Email-and-Slack\u001b[m\u001b[m/                 \u001b[34mLab_27_Intro-to-Pandas\u001b[m\u001b[m/\r\n",
      "\u001b[34mLab_10_Functional-Programming\u001b[m\u001b[m/         \u001b[34mLab_28_Importing-and-Exporting-Data\u001b[m\u001b[m/\r\n",
      "\u001b[34mLab_11_Object-Oriented-Programming\u001b[m\u001b[m/    \u001b[34mLab_29_Dataframe-Calculations\u001b[m\u001b[m/\r\n",
      "\u001b[34mLab_12_Error-Handling\u001b[m\u001b[m/                 \u001b[34mLab_2_Resolve-Conflicts-in-Github\u001b[m\u001b[m/\r\n",
      "\u001b[34mLab_13_APIs\u001b[m\u001b[m/                           \u001b[34mLab_30_Python-Plus\u001b[m\u001b[m/\r\n",
      "\u001b[34mLab_14_Refactoring\u001b[m\u001b[m/                    \u001b[34mLab_31_Code-Simplicity-and-Efficiency\u001b[m\u001b[m/\r\n",
      "\u001b[34mLab_15_Stack-API\u001b[m\u001b[m/                      \u001b[34mLab_32_Encoding\u001b[m\u001b[m/\r\n",
      "\u001b[34mLab_16_Web-Scraping\u001b[m\u001b[m/                   \u001b[34mLab_33_Intro-to-Data-Preparation\u001b[m\u001b[m/\r\n",
      "\u001b[34mLab_17_Understanding-Code\u001b[m\u001b[m/             \u001b[34mLab_34_Parallelization\u001b[m\u001b[m/\r\n",
      "\u001b[34mLab_18_SQL-Queries\u001b[m\u001b[m/                    \u001b[34mLab_3_Algorithmization\u001b[m\u001b[m/\r\n",
      "\u001b[34mLab_19_SQL-Finance\u001b[m\u001b[m/                    \u001b[34mLab_4_List-Comprehension\u001b[m\u001b[m/\r\n",
      "\u001b[34mLab_1_Intro-to-GIT\u001b[m\u001b[m/                    \u001b[34mLab_5_Dicts-Sets-and-Tuples\u001b[m\u001b[m/\r\n",
      "\u001b[34mLab_20_SQL-Business-Cases\u001b[m\u001b[m/             \u001b[34mLab_6_String-Operations\u001b[m\u001b[m/\r\n",
      "\u001b[34mLab_21_MySql-Select\u001b[m\u001b[m/                   \u001b[34mLab_7_Advanced-Regex\u001b[m\u001b[m/\r\n",
      "\u001b[34mLab_22_Advanced-MySql\u001b[m\u001b[m/                 \u001b[34mLab_8_Conditional-Statements\u001b[m\u001b[m/\r\n",
      "\u001b[34mLab_23_MySql-Murder-Mystery\u001b[m\u001b[m/           \u001b[34mLab_9_Loops\u001b[m\u001b[m/\r\n",
      "\u001b[34mLab_24_Numpy\u001b[m\u001b[m/                          \u001b[34mProject_Week_1_Python-Game\u001b[m\u001b[m/\r\n",
      "\u001b[34mLab_25_Lambda-Functions\u001b[m\u001b[m/               \u001b[34mProject_Week_2_Creating-Database\u001b[m\u001b[m/\r\n",
      "\u001b[34mLab_26_Map-Reduce-Filter\u001b[m\u001b[m/              \u001b[34mProject_Week_3_Data-Preparation\u001b[m\u001b[m/\r\n"
     ]
    }
   ],
   "source": [
    "ls\n"
   ]
  },
  {
   "cell_type": "code",
   "execution_count": 36,
   "metadata": {},
   "outputs": [
    {
     "name": "stdout",
     "output_type": "stream",
     "text": [
      "/Users/akbare/Desktop/IronhackDA/DAFT_212/Module_1/Lab_4_List-Comprehension\n"
     ]
    }
   ],
   "source": [
    "\n",
    "cd Lab_4_List-Comprehension/"
   ]
  },
  {
   "cell_type": "code",
   "execution_count": 43,
   "metadata": {},
   "outputs": [
    {
     "data": {
      "text/plain": [
       "'/Users/akbare/Desktop/IronhackDA/DAFT_212/Module_1/Lab_4_List-Comprehension'"
      ]
     },
     "execution_count": 43,
     "metadata": {},
     "output_type": "execute_result"
    }
   ],
   "source": [
    "pwd"
   ]
  },
  {
   "cell_type": "code",
   "execution_count": 38,
   "metadata": {},
   "outputs": [
    {
     "name": "stdout",
     "output_type": "stream",
     "text": [
      "README.md          sample_file_2.csv  sample_file_5.csv  sample_file_8.csv\r\n",
      "main.ipynb         sample_file_2.txt  sample_file_5.txt  sample_file_8.txt\r\n",
      "sample_file_0.csv  sample_file_3.csv  sample_file_6.csv  sample_file_9.csv\r\n",
      "sample_file_0.txt  sample_file_3.txt  sample_file_6.txt  sample_file_9.txt\r\n",
      "sample_file_1.csv  sample_file_4.csv  sample_file_7.csv\r\n",
      "sample_file_1.txt  sample_file_4.txt  sample_file_7.txt\r\n"
     ]
    }
   ],
   "source": [
    "ls"
   ]
  },
  {
   "cell_type": "code",
   "execution_count": null,
   "metadata": {},
   "outputs": [],
   "source": []
  },
  {
   "cell_type": "code",
   "execution_count": 44,
   "metadata": {},
   "outputs": [
    {
     "name": "stdout",
     "output_type": "stream",
     "text": [
      "sample_file_1.csv\n",
      "sample_file_0.csv\n",
      "sample_file_2.csv\n",
      "sample_file_3.csv\n",
      "sample_file_7.csv\n",
      "sample_file_6.csv\n",
      "sample_file_4.csv\n",
      "sample_file_5.csv\n",
      "sample_file_8.csv\n",
      "sample_file_9.csv\n"
     ]
    }
   ],
   "source": [
    "for file in os.listdir(\"/Users/akbare/Desktop/IronhackDA/DAFT_212/Module_1/Lab_4_List-Comprehension\"):\n",
    "    if file.endswith(\".csv\"):\n",
    "        print(file)\n",
    "    "
   ]
  },
  {
   "cell_type": "code",
   "execution_count": 48,
   "metadata": {},
   "outputs": [
    {
     "name": "stdout",
     "output_type": "stream",
     "text": [
      "['sample_file_1.csv', 'sample_file_0.csv', 'sample_file_2.csv', 'sample_file_3.csv', 'sample_file_7.csv', 'sample_file_6.csv', 'sample_file_4.csv', 'sample_file_5.csv', 'sample_file_8.csv', 'sample_file_9.csv']\n"
     ]
    }
   ],
   "source": [
    "z = [file for file in os.listdir(\"/Users/akbare/Desktop/IronhackDA/DAFT_212/Module_1/Lab_4_List-Comprehension\") \\\n",
    "                            if file.endswith(\".csv\")]\n",
    "print(z)"
   ]
  },
  {
   "cell_type": "markdown",
   "metadata": {},
   "source": [
    "### Bonus"
   ]
  },
  {
   "cell_type": "markdown",
   "metadata": {},
   "source": [
    "Try to solve these katas using list comprehensions."
   ]
  },
  {
   "cell_type": "markdown",
   "metadata": {},
   "source": [
    "**Easy**\n",
    "- [Insert values](https://www.codewars.com/kata/invert-values)\n",
    "- [Sum Square(n)](https://www.codewars.com/kata/square-n-sum)\n",
    "- [Digitize](https://www.codewars.com/kata/digitize)\n",
    "- [List filtering](https://www.codewars.com/kata/list-filtering)\n",
    "- [Arithmetic list](https://www.codewars.com/kata/541da001259d9ca85d000688)\n",
    "\n",
    "**Medium**\n",
    "- [Multiples of 3 or 5](https://www.codewars.com/kata/514b92a657cdc65150000006)\n",
    "- [Count of positives / sum of negatives](https://www.codewars.com/kata/count-of-positives-slash-sum-of-negatives)\n",
    "- [Categorize new member](https://www.codewars.com/kata/5502c9e7b3216ec63c0001aa)\n",
    "\n",
    "**Advanced**\n",
    "- [Queue time counter](https://www.codewars.com/kata/queue-time-counter)"
   ]
  }
 ],
 "metadata": {
  "kernelspec": {
   "display_name": "Python 3 (ipykernel)",
   "language": "python",
   "name": "python3"
  },
  "language_info": {
   "codemirror_mode": {
    "name": "ipython",
    "version": 3
   },
   "file_extension": ".py",
   "mimetype": "text/x-python",
   "name": "python",
   "nbconvert_exporter": "python",
   "pygments_lexer": "ipython3",
   "version": "3.9.7"
  }
 },
 "nbformat": 4,
 "nbformat_minor": 2
}
