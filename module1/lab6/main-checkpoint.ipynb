{
 "cells": [
  {
   "cell_type": "markdown",
   "metadata": {},
   "source": [
    "# Before your start:\n",
    "- Read the README.md file\n",
    "- Comment as much as you can and use the resources in the README.md file\n",
    "- Happy learning!"
   ]
  },
  {
   "cell_type": "markdown",
   "metadata": {},
   "source": [
    "# Challenge 1 - Combining Strings\n",
    "\n",
    "Combining strings is an important skill to acquire. There are multiple ways of combining strings in Python, as well as combining strings with variables. We will explore this in the first challenge. In the cell below, combine the strings in the list and add spaces between the strings (do not add a space after the last string). Insert a period after the last string."
   ]
  },
  {
   "cell_type": "code",
   "execution_count": 1,
   "metadata": {},
   "outputs": [
    {
     "name": "stdout",
     "output_type": "stream",
     "text": [
      "Durante un tiempo no estuvo segura de si su marido era su marido.\n"
     ]
    }
   ],
   "source": [
    "str_list = ['Durante', 'un', 'tiempo', 'no', 'estuvo', 'segura', 'de', 'si', 'su', 'marido', 'era', 'su', 'marido']\n",
    "# Your code here: \n",
    "print('Durante'+' '+'un'+ ' ' +'tiempo'+' '+'no'+' '+'estuvo'+' '+ 'segura'+' ' +'de'+' ' +'si'+' '+'su'+' '+'marido'+' '+'era'+' '+'su'+' '+'marido'+\".\")\n"
   ]
  },
  {
   "cell_type": "code",
   "execution_count": 9,
   "metadata": {},
   "outputs": [
    {
     "data": {
      "text/plain": [
       "'Durante un tiempo no estuvo segura de si su marido era su marido.'"
      ]
     },
     "execution_count": 9,
     "metadata": {},
     "output_type": "execute_result"
    }
   ],
   "source": [
    "' '.join(str_list)+'.'"
   ]
  },
  {
   "cell_type": "markdown",
   "metadata": {},
   "source": [
    "In the cell below, use the list of strings to create a grocery list. Start the list with the string `Grocery list: ` and include a comma and a space between each item except for the last one. Include a period at the end. Only include foods in the list that start with the letter 'b' and ensure all foods are lower case."
   ]
  },
  {
   "cell_type": "code",
   "execution_count": 3,
   "metadata": {},
   "outputs": [
    {
     "data": {
      "text/plain": [
       "['bananas', 'bread', 'brownie mix', 'broccoli']"
      ]
     },
     "execution_count": 3,
     "metadata": {},
     "output_type": "execute_result"
    }
   ],
   "source": [
    "food_list = ['Bananas', 'Chocolate', 'bread', 'diapers', 'Ice Cream', 'Brownie Mix', 'broccoli']\n",
    "# Your code here:\n",
    "Grocery_list =[]\n",
    "for i in food_list:\n",
    "    if i.startswith(\"b\") or i.startswith(\"B\"):\n",
    "        Grocery_list.append(i.lower())\n",
    "       \n",
    "\n",
    "Grocery_list"
   ]
  },
  {
   "cell_type": "markdown",
   "metadata": {},
   "source": [
    "In the cell below, write a function that computes the area of a circle using its radius. Compute the area of the circle and insert the radius and the area between the two strings. Make sure to include spaces between the variable and the strings. \n",
    "\n",
    "Note: You can use the techniques we have learned so far or use f-strings. F-strings allow us to embed code inside strings. You can read more about f-strings [here](https://www.python.org/dev/peps/pep-0498/)."
   ]
  },
  {
   "cell_type": "code",
   "execution_count": 19,
   "metadata": {},
   "outputs": [
    {
     "name": "stdout",
     "output_type": "stream",
     "text": [
      "Enter the radius of a circle:4.5\n",
      "Area of a circle = 63.62\n",
      "Area of a circle = 63.62\n"
     ]
    }
   ],
   "source": [
    "import math\n",
    "\n",
    "string1 = \"The area of the circle with radius:\"\n",
    "string2  = \"is:\"\n",
    "radius = 4.5\n",
    "\n",
    "def area(x, pi = math.pi):\n",
    "    \"\"\"\n",
    "    This function takes a radius and returns the area of a circle. \n",
    "    We also pass a default value for pi.\n",
    "    \n",
    "    Input: Float (and default value for pi)\n",
    "    Output: Float\n",
    "    \n",
    "    Sample input: 5.0\n",
    "    Sample Output: 78.53981633\n",
    "    \"\"\"\n",
    "    \n",
    "    # Your code here: \n",
    "    import math\n",
    "r = float(input(\"Enter the radius of a circle:\"))\n",
    "area = math.pi * r * r\n",
    "\n",
    "\n",
    "   \n",
    "    \n",
    "    \n",
    "  \n",
    "    \n",
    "    \n",
    "# Your output string here:\n",
    "print(\"Area of a circle = %.2f\" %area)\n",
    "print(f\"Area of a circle = {area:.2f}\")"
   ]
  },
  {
   "cell_type": "markdown",
   "metadata": {},
   "source": [
    "# Challenge 2 - Splitting Strings\n",
    "\n",
    "We have first looked at combining strings into one long string. There are times where we need to do the opposite and split the string into smaller components for further analysis. \n",
    "\n",
    "In the cell below, split the string into a list of strings using the space delimiter. Count the frequency of each word in the string in a dictionary. Strip the periods, line breaks and commas from the text. Make sure to remove empty strings from your dictionary."
   ]
  },
  {
   "cell_type": "code",
   "execution_count": 5,
   "metadata": {},
   "outputs": [
    {
     "name": "stdout",
     "output_type": "stream",
     "text": [
      "Some say the world will end in fire\n",
      "Some say in ice\n",
      "From what I’ve tasted of desire\n",
      "I hold with those who favor fire\n",
      "But if it had to perish twice\n",
      "I think I know enough of hate\n",
      "To say that for destruction ice\n",
      "Is also great\n",
      "And would suffice\n",
      "['Some', 'say', 'the', 'world', 'will', 'end', 'in', 'fire', 'Some', 'say', 'in', 'ice', 'From', 'what', 'I’ve', 'tasted', 'of', 'desire', 'I', 'hold', 'with', 'those', 'who', 'favor', 'fire', 'But', 'if', 'it', 'had', 'to', 'perish', 'twice', 'I', 'think', 'I', 'know', 'enough', 'of', 'hate', 'To', 'say', 'that', 'for', 'destruction', 'ice', 'Is', 'also', 'great', 'And', 'would', 'suffice']\n"
     ]
    },
    {
     "data": {
      "text/plain": [
       "Counter({'Some': 2,\n",
       "         'say': 3,\n",
       "         'the': 1,\n",
       "         'world': 1,\n",
       "         'will': 1,\n",
       "         'end': 1,\n",
       "         'in': 2,\n",
       "         'fire': 2,\n",
       "         'ice': 2,\n",
       "         'From': 1,\n",
       "         'what': 1,\n",
       "         'I’ve': 1,\n",
       "         'tasted': 1,\n",
       "         'of': 2,\n",
       "         'desire': 1,\n",
       "         'I': 3,\n",
       "         'hold': 1,\n",
       "         'with': 1,\n",
       "         'those': 1,\n",
       "         'who': 1,\n",
       "         'favor': 1,\n",
       "         'But': 1,\n",
       "         'if': 1,\n",
       "         'it': 1,\n",
       "         'had': 1,\n",
       "         'to': 1,\n",
       "         'perish': 1,\n",
       "         'twice': 1,\n",
       "         'think': 1,\n",
       "         'know': 1,\n",
       "         'enough': 1,\n",
       "         'hate': 1,\n",
       "         'To': 1,\n",
       "         'that': 1,\n",
       "         'for': 1,\n",
       "         'destruction': 1,\n",
       "         'Is': 1,\n",
       "         'also': 1,\n",
       "         'great': 1,\n",
       "         'And': 1,\n",
       "         'would': 1,\n",
       "         'suffice': 1})"
      ]
     },
     "execution_count": 5,
     "metadata": {},
     "output_type": "execute_result"
    }
   ],
   "source": [
    "poem = \"\"\"Some say the world will end in fire,\n",
    "Some say in ice.\n",
    "From what I’ve tasted of desire\n",
    "I hold with those who favor fire.\n",
    "But if it had to perish twice,\n",
    "I think I know enough of hate\n",
    "To say that for destruction ice\n",
    "Is also great\n",
    "And would suffice.\"\"\"\n",
    "\n",
    "# Your code here:\n",
    "import re \n",
    "poem = poem.replace(\",\", \"\")\n",
    "poem = poem.replace(\".\", \"\")\n",
    "print(poem)\n",
    "poem = poem.split()\n",
    "print(poem)\n",
    "from collections import Counter\n",
    "Counter(poem)\n",
    "\n",
    " \n",
    "    \n",
    "\n"
   ]
  },
  {
   "cell_type": "markdown",
   "metadata": {},
   "source": [
    "In the cell below, find all the words that appear in the text and do not appear in the blacklist. You must parse the string but can choose any data structure you wish for the words that do not appear in the blacklist. Remove all non letter characters and convert all words to lower case."
   ]
  },
  {
   "cell_type": "code",
   "execution_count": 6,
   "metadata": {},
   "outputs": [
    {
     "name": "stdout",
     "output_type": "stream",
     "text": [
      "['w', 'a', 's', 'a', 'n', 'g', 'r', 'y', 'w', 'i', 't', 'h', 'm', 'y', 'f', 'r', 'i', 'e', 'n', 'd', 't', 'o', 'l', 'd', 'm', 'y', 'w', 'r', 'a', 't', 'h', 'm', 'y', 'w', 'r', 'a', 't', 'h', 'd', 'i', 'd', 'e', 'n', 'd', 'w', 'a', 's', 'a', 'n', 'g', 'r', 'y', 'w', 'i', 't', 'h', 'm', 'y', 'f', 'o', 'e', 't', 'o', 'l', 'd', 'i', 't', 'n', 'o', 't', 'm', 'y', 'w', 'r', 'a', 't', 'h', 'd', 'i', 'd', 'g', 'r', 'o', 'w', 'n', 'd', 'w', 'a', 't', 'e', 'r', 'd', 'i', 't', 'i', 'n', 'f', 'e', 'a', 'r', 's', 'i', 'g', 'h', 't', 'm', 'o', 'r', 'n', 'i', 'n', 'g', 'w', 'i', 't', 'h', 'm', 'y', 't', 'e', 'a', 'r', 's', 'n', 'd', 's', 'u', 'n', 'n', 'e', 'd', 'i', 't', 'w', 'i', 't', 'h', 's', 'm', 'i', 'l', 'e', 's', 'n', 'd', 'w', 'i', 't', 'h', 's', 'o', 'f', 't', 'd', 'e', 'c', 'e', 'i', 't', 'f', 'u', 'l', 'w', 'i', 'l', 'e', 's', 'n', 'd', 'i', 't', 'g', 'r', 'e', 'w', 'b', 'o', 't', 'h', 'd', 'a', 'y', 'a', 'n', 'd', 'n', 'i', 'g', 'h', 't', 'i', 'l', 'l', 'i', 't', 'b', 'o', 'r', 'e', 'a', 'n', 'a', 'p', 'p', 'l', 'e', 'b', 'r', 'i', 'g', 'h', 't', 'n', 'd', 'm', 'y', 'f', 'o', 'e', 'b', 'e', 'h', 'e', 'l', 'd', 'i', 't', 's', 'h', 'i', 'n', 'e', 'n', 'd', 'h', 'e', 'k', 'n', 'e', 'w', 't', 'h', 'a', 't', 'i', 't', 'w', 'a', 's', 'm', 'i', 'n', 'e', 'n', 'd', 'i', 'n', 't', 'o', 'm', 'y', 'g', 'a', 'r', 'd', 'e', 'n', 's', 't', 'o', 'l', 'e', 'h', 'e', 'n', 't', 'h', 'e', 'n', 'i', 'g', 'h', 't', 'h', 'a', 'd', 'v', 'e', 'i', 'l', 'd', 't', 'h', 'e', 'p', 'o', 'l', 'e', 'n', 't', 'h', 'e', 'm', 'o', 'r', 'n', 'i', 'n', 'g', 'g', 'l', 'a', 'd', 's', 'e', 'e', 'y', 'f', 'o', 'e', 'o', 'u', 't', 's', 't', 'r', 'e', 't', 'c', 'h', 'e', 'd', 'b', 'e', 'n', 'e', 'a', 't', 'h', 't', 'h', 'e', 't', 'r', 'e', 'e']\n"
     ]
    }
   ],
   "source": [
    "blacklist = ['and', 'as', 'an', 'a', 'the', 'in', 'it']\n",
    "\n",
    "poem = \"\"\"I was angry with my friend; \n",
    "I told my wrath, my wrath did end.\n",
    "I was angry with my foe: \n",
    "I told it not, my wrath did grow. \n",
    "\n",
    "And I waterd it in fears,\n",
    "Night & morning with my tears: \n",
    "And I sunned it with smiles,\n",
    "And with soft deceitful wiles. \n",
    "\n",
    "And it grew both day and night. \n",
    "Till it bore an apple bright. \n",
    "And my foe beheld it shine,\n",
    "And he knew that it was mine. \n",
    "\n",
    "And into my garden stole, \n",
    "When the night had veild the pole; \n",
    "In the morning glad I see; \n",
    "My foe outstretched beneath the tree.\"\"\"\n",
    "\n",
    "# Your code here:\n",
    "import re\n",
    "print(re.findall('[a-z]', poem))\n"
   ]
  },
  {
   "cell_type": "code",
   "execution_count": null,
   "metadata": {},
   "outputs": [],
   "source": []
  }
 ],
 "metadata": {
  "kernelspec": {
   "display_name": "Python 3 (ipykernel)",
   "language": "python",
   "name": "python3"
  },
  "language_info": {
   "codemirror_mode": {
    "name": "ipython",
    "version": 3
   },
   "file_extension": ".py",
   "mimetype": "text/x-python",
   "name": "python",
   "nbconvert_exporter": "python",
   "pygments_lexer": "ipython3",
   "version": "3.9.7"
  },
  "varInspector": {
   "cols": {
    "lenName": 16,
    "lenType": 16,
    "lenVar": 40
   },
   "kernels_config": {
    "python": {
     "delete_cmd_postfix": "",
     "delete_cmd_prefix": "del ",
     "library": "var_list.py",
     "varRefreshCmd": "print(var_dic_list())"
    },
    "r": {
     "delete_cmd_postfix": ") ",
     "delete_cmd_prefix": "rm(",
     "library": "var_list.r",
     "varRefreshCmd": "cat(var_dic_list()) "
    }
   },
   "types_to_exclude": [
    "module",
    "function",
    "builtin_function_or_method",
    "instance",
    "_Feature"
   ],
   "window_display": false
  }
 },
 "nbformat": 4,
 "nbformat_minor": 2
}
