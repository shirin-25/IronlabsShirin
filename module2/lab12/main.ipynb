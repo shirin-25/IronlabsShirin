{
 "cells": [
  {
   "cell_type": "markdown",
   "metadata": {},
   "source": [
    "## Question 1\n",
    "The following table indicates the number of 6-point scores in an American rugby match in the 1979 season.\n",
    "\n",
    "![](table1.png)\n",
    "\n",
    "Based on these results, we create a Poisson distribution with the sample mean parameter  = 2.435. Is there any reason to believe that at a .05 level the number of scores is a Poisson variable?"
   ]
  },
  {
   "cell_type": "code",
   "execution_count": null,
   "metadata": {},
   "outputs": [],
   "source": [
    "from scipy.stats import poisson\n",
    "from scipy.stats import norm\n",
    "from scipy.stats import binom\n",
    "from scipy.stats import chi2\n",
    "import pandas as pd"
   ]
  },
  {
   "cell_type": "code",
   "execution_count": null,
   "metadata": {},
   "outputs": [],
   "source": [
    "# your answer here\n",
    "times = [35, 99, 104, 110, 62, 25, 10, 3]\n",
    "scores = list(range(len(times)))\n",
    "n_scores = len(scores)\n",
    "total_times = sum(times)\n",
    "mu = 2.435\n",
    "alpha = 0.05"
   ]
  },
  {
   "cell_type": "code",
   "execution_count": null,
   "metadata": {},
   "outputs": [],
   "source": [
    "probs = [poisson.pmf(i, mu) for i in range(n_scores - 1)]\n",
    "probs.append(1 - sum(probs))"
   ]
  },
  {
   "cell_type": "code",
   "execution_count": null,
   "metadata": {},
   "outputs": [],
   "source": [
    "f_exp = [p *total_times for p in probs]"
   ]
  },
  {
   "cell_type": "code",
   "execution_count": null,
   "metadata": {},
   "outputs": [],
   "source": [
    "dof = n_scores - 1 - 1\n",
    "\n",
    "# Chi Squared value\n",
    "chi = sum(pow(f_exp[i] - times[i], 2) / f_exp[i] for i in range(n_scores))\n",
    "\n",
    "# Critical value\n",
    "critical_value = chi2.ppf(q = 1 - alpha, df = dof)"
   ]
  },
  {
   "cell_type": "code",
   "execution_count": null,
   "metadata": {},
   "outputs": [],
   "source": [
    "print(\"Null hypothesis can't be rejected\") if critical_value > chi else print(\"Null hypothesis rejected\")\n",
    "print(\"Chi: \", chi)\n",
    "print(\"Critical value: \", critical_value)"
   ]
  },
  {
   "cell_type": "code",
   "execution_count": null,
   "metadata": {},
   "outputs": [],
   "source": [
    "summary = pd.DataFrame({'Observed Values': times, \n",
    "                        'Expected values': f_exp, \n",
    "                        'Theoretical probabilities': probs})\n",
    "summary"
   ]
  },
  {
   "cell_type": "markdown",
   "metadata": {},
   "source": [
    "## Question 2\n",
    "The following are the ordered values of a random sample of SAT scores (university entrance exam) for several students: 852, 875, 910, 933, 957, 963, 981, 998, 1010, 1015, 1018, 1023, 1035, 1048, 1063. In previous years, the scores were presented by N (985,50). Based on the sample, is there any reason to believe that there has been a change in the distribution of scores this year? Use the level alpha = 0.05. "
   ]
  },
  {
   "cell_type": "code",
   "execution_count": null,
   "metadata": {},
   "outputs": [],
   "source": [
    "#your answer here\n",
    "\n",
    "# Generate the data\n",
    "scores = [852, 875, 910, 933, 957, 963, 981, 998, 1007, 1010, 1015, 1018, 1023, 1035, 1048, 1063]\n",
    "total = sum(scores)\n",
    "n = len(scores)\n",
    "\n",
    "# Kolmogorov-Smirnov: empirical distribution function (ECDF) \n",
    "snx = [(i+1)/n for i in range(len(scores))]\n",
    "\n",
    "# Normal distribution\n",
    "fox = [norm.cdf(i, loc=985, scale=50) for i in scores]\n",
    "\n",
    "# Kolmogorov-Smirnov statistic\n",
    "summary = pd.DataFrame({'Ordered values': scores ,'Sn(x)': snx, 'Fo(x)': fox})\n",
    "summary['|Sn(x) - Fn(x)|'] = summary.apply(lambda x: abs(x['Sn(x)'] - x['Fo(x)']), axis=1)\n",
    "st = summary['|Sn(x) - Fn(x)|'].max()\n",
    "\n",
    "# Critical value for the Kolmogorov-Smirnov test with alpha = 0.05\n",
    "# Find that value here: http://www.real-statistics.com/statistics-tables/kolmogorov-smirnov-table/\n",
    "critical_value = 0.328"
   ]
  },
  {
   "cell_type": "code",
   "execution_count": null,
   "metadata": {},
   "outputs": [],
   "source": [
    "print(\"Null hypothesis can't be rejected\") if critical_value > st else print(\"Null hypothesis rejected\")\n",
    "print(\"K-S statistic: \", st)\n",
    "print(\"Critical value: \", critical_value)"
   ]
  },
  {
   "cell_type": "code",
   "execution_count": null,
   "metadata": {},
   "outputs": [],
   "source": [
    "summary"
   ]
  },
  {
   "cell_type": "markdown",
   "metadata": {},
   "source": [
    "## Question 3\n",
    "Let's analyze a discrete distribution. To analyze the number of defective items in a factory in the city of Medellín, we took a random sample of n = 60 articles and observed the number of defectives in the following table:\n",
    "\n",
    "![](table4.png)\n",
    "\n",
    "A poissón distribution was proposed since it is defined for x = 0,1,2,3, .... using the following model:\n",
    "\n",
    "![](image1.png)\n",
    "\n",
    "Does the distribution of defective items follow this distribution?"
   ]
  },
  {
   "cell_type": "code",
   "execution_count": null,
   "metadata": {},
   "outputs": [],
   "source": [
    "# your code here\n",
    "# Generate the data\n",
    "samples = [138, 53, 9]\n",
    "defective = list(range(len(times)))\n",
    "n_scores = len(samples)\n",
    "total_samples = sum(samples)\n",
    "n = 10\n",
    "p = 0.05\n",
    "alpha = 0.05\n",
    "\n",
    "# Theoretical probabilities\n",
    "probs = [binom.pmf(i, n, p) for i in range(n_scores - 1)]\n",
    "probs.append(1 - sum(probs))\n",
    "\n",
    "# Expected frequencies\n",
    "f_exp = [p *total_samples for p in probs]\n",
    "\n",
    "# Degrees of freedom\n",
    "dof = n_scores - 1\n",
    "\n",
    "# Chi Squared value\n",
    "chi = sum(pow(f_exp[i] - samples[i], 2) / f_exp[i] for i in range(n_scores))\n",
    "\n",
    "# Critical value\n",
    "critical_value = chi2.ppf(q = 1 - alpha, df = dof)"
   ]
  },
  {
   "cell_type": "code",
   "execution_count": null,
   "metadata": {},
   "outputs": [],
   "source": [
    "# Ho: population is binomial\n",
    "# Ha: populations is not binomial\n",
    "print(\"Null hypothesis can't be rejected\") if critical_value > chi else print(\"Null hypothesis rejected\")\n",
    "print(\"Chi: \", chi)\n",
    "print(\"Critical value: \", critical_value)"
   ]
  },
  {
   "cell_type": "markdown",
   "metadata": {},
   "source": [
    "## Question 4\n",
    "A quality control engineer takes a simple of 10 tires that come out of an assembly line, and would like to verify on the basis of the data that follows, if the number of tires with defects observed over 200 days, if it is true that 5% of all tires have defects (that is, if the sample comes from a binomial population with n = 10 and p = 0.05). "
   ]
  },
  {
   "cell_type": "code",
   "execution_count": null,
   "metadata": {},
   "outputs": [],
   "source": [
    "# your answer here\n",
    "# Generate the data\n",
    "samples = [138, 53, 9]\n",
    "defective = list(range(len(times)))\n",
    "n_scores = len(samples)\n",
    "total_samples = sum(samples)\n",
    "n = 10\n",
    "p = 0.05\n",
    "alpha = 0.05\n",
    "\n",
    "# Theoretical probabilities\n",
    "probs = [binom.pmf(i, n, p) for i in range(n_scores - 1)]\n",
    "probs.append(1 - sum(probs))\n",
    "\n",
    "# Expected frequencies\n",
    "f_exp = [p *total_samples for p in probs]\n",
    "\n",
    "# Degrees of freedom\n",
    "dof = n_scores - 1\n",
    "\n",
    "# Chi Squared value\n",
    "chi = sum(pow(f_exp[i] - samples[i], 2) / f_exp[i] for i in range(n_scores))\n",
    "\n",
    "# Critical value\n",
    "critical_value = chi2.ppf(q = 1 - alpha, df = dof)"
   ]
  },
  {
   "cell_type": "code",
   "execution_count": null,
   "metadata": {},
   "outputs": [],
   "source": [
    "print(\"Null hypothesis can't be rejected\") if critical_value > chi else print(\"Null hypothesis rejected\")\n",
    "print(\"Chi: \", chi)\n",
    "print(\"Critical value: \", critical_value)"
   ]
  },
  {
   "cell_type": "code",
   "execution_count": null,
   "metadata": {},
   "outputs": [],
   "source": [
    "summary = pd.DataFrame({'Observed Values': samples, \n",
    "                        'Expected values': f_exp, \n",
    "                        'Theoretical probabilities': probs})\n",
    "summary"
   ]
  },
  {
   "cell_type": "markdown",
   "metadata": {},
   "source": [
    "## Question 5\n",
    "A researcher gathers information about the patterns of physical activity (AF) of children in the fifth grade of primary school of a public school. He defines three categories of physical activity (1 = Low, 2 = Medium, 3 = High). He also inquires about the regular consumption of sugary drinks at school, and defines two categories (1 = consumed, 0 = not consumed). We would like to evaluate if there is an association between patterns of physical activity and the consumption of sugary drinks for the children of this school, at a level of 5% significance. The results are in the following table: \n",
    "\n",
    "![](table5.png)"
   ]
  },
  {
   "cell_type": "code",
   "execution_count": null,
   "metadata": {},
   "outputs": [],
   "source": [
    "#your answer here\n",
    "# Generate the data\n",
    "alpha = 0.05\n",
    "rows = 3 \n",
    "cols = 2\n",
    "scores = [32, 12, 14, 22, 6, 9]\n",
    "n_scores = len(scores)\n",
    "total_values = [[52, 43], [44, 36, 15]]\n",
    "total = 95\n",
    "\n",
    "# Expected frequencies\n",
    "f_exp = [x*y / total for y in total_values[1] for x in total_values[0]]\n",
    "\n",
    "# Degrees of freedom\n",
    "dof = (rows - 1)*(cols - 1)\n",
    "\n",
    "# Chi Squared value\n",
    "chi = sum(pow(f_exp[i] - scores[i], 2) / f_exp[i] for i in range(n_scores))\n",
    "\n",
    "# Critical value\n",
    "critical_value = chi2.ppf(q = 1 - alpha, df = 2)"
   ]
  },
  {
   "cell_type": "code",
   "execution_count": null,
   "metadata": {},
   "outputs": [],
   "source": [
    "print(\"Null hypothesis can't be rejected\") if critical_value > chi else print(\"Null hypothesis rejected\")\n",
    "print(\"Chi: \", chi)\n",
    "print(\"Critical value: \", critical_value)summary = pd.DataFrame({'Observed values': scores, \n",
    "                        'Expected values': f_exp})\n"
   ]
  },
  {
   "cell_type": "code",
   "execution_count": null,
   "metadata": {},
   "outputs": [],
   "source": [
    "summary = pd.DataFrame({'Observed values': scores, \n",
    "                        'Expected values': f_exp})\n",
    "summary"
   ]
  }
 ],
 "metadata": {
  "kernelspec": {
   "display_name": "Python 3 (ipykernel)",
   "language": "python",
   "name": "python3"
  },
  "language_info": {
   "codemirror_mode": {
    "name": "ipython",
    "version": 3
   },
   "file_extension": ".py",
   "mimetype": "text/x-python",
   "name": "python",
   "nbconvert_exporter": "python",
   "pygments_lexer": "ipython3",
   "version": "3.9.7"
  }
 },
 "nbformat": 4,
 "nbformat_minor": 2
}
