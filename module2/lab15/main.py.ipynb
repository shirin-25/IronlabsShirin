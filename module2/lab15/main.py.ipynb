{
 "cells": [
  {
   "cell_type": "code",
   "execution_count": null,
   "id": "33a4236b",
   "metadata": {},
   "outputs": [],
   "source": [
    "import pandas as pd\n",
    "import numpy as np\n",
    "from itertools import permutations"
   ]
  },
  {
   "cell_type": "code",
   "execution_count": null,
   "id": "61a9ab3c",
   "metadata": {},
   "outputs": [],
   "source": [
    "def permute_string(str):\n",
    "    if len(str) == 0:\n",
    "        return ['']\n",
    "    prev_list = permute_string(str[1:len(str)])\n",
    "    next_list = []\n",
    "    for i in range(0,len(prev_list)):\n",
    "        for j in range(0,len(str)):\n",
    "            new_str = prev_list[i][0:j]+str[0]+prev_list[i][j:len(str)-1]\n",
    "            if new_str not in next_list:\n",
    "                next_list.append(new_str)\n",
    "    return next_list\n",
    "\n",
    "print(permute_string('Ironhack'));"
   ]
  },
  {
   "cell_type": "code",
   "execution_count": null,
   "id": "60516eff",
   "metadata": {},
   "outputs": [],
   "source": [
    "from itertools import combinations\n",
    "people = combinations(list(range(17)), 3)\n",
    "len(list(people))"
   ]
  },
  {
   "cell_type": "code",
   "execution_count": null,
   "id": "d3def9d6",
   "metadata": {},
   "outputs": [],
   "source": [
    "import math\n",
    "num = math.factorial(17)/(math.factorial(17-3)*math.factorial(3))\n",
    "num"
   ]
  },
  {
   "cell_type": "code",
   "execution_count": null,
   "id": "0f5e069c",
   "metadata": {},
   "outputs": [],
   "source": [
    "import math\n",
    "\n",
    "m =5\n",
    "n = 10\n",
    "\n",
    "math.factorial(m+n-1)/(math.factorial(m)*math.factorial(n-1))"
   ]
  },
  {
   "cell_type": "code",
   "execution_count": null,
   "id": "f0568bbd",
   "metadata": {},
   "outputs": [],
   "source": [
    "def perm_array(x):\n",
    "#Considering that the integer may have more than 1 digit I will fist convert everythinginto the string and then do the permutations of that string\n",
    "    y=''\n",
    "    for elem in x:\n",
    "        y += str(elem)\n",
    "    result= [int(''.join(char)) for char in permutations(y)]\n",
    "    return result"
   ]
  },
  {
   "cell_type": "code",
   "execution_count": null,
   "id": "99954a9b",
   "metadata": {},
   "outputs": [],
   "source": [
    "randnum= np.random.randint(1,1000,3)\n",
    "randnum"
   ]
  },
  {
   "cell_type": "code",
   "execution_count": null,
   "id": "6fd4ce0c",
   "metadata": {},
   "outputs": [],
   "source": [
    "n=24\n",
    "m=6\n",
    "math.factorial(n)/(math.factorial(n-m))"
   ]
  },
  {
   "cell_type": "code",
   "execution_count": null,
   "id": "f1a7830a",
   "metadata": {},
   "outputs": [],
   "source": [
    "len(list(permutations(list(range(24)),6)))"
   ]
  }
 ],
 "metadata": {
  "kernelspec": {
   "display_name": "Python 3 (ipykernel)",
   "language": "python",
   "name": "python3"
  },
  "language_info": {
   "codemirror_mode": {
    "name": "ipython",
    "version": 3
   },
   "file_extension": ".py",
   "mimetype": "text/x-python",
   "name": "python",
   "nbconvert_exporter": "python",
   "pygments_lexer": "ipython3",
   "version": "3.9.7"
  }
 },
 "nbformat": 4,
 "nbformat_minor": 5
}
