{
 "cells": [
  {
   "cell_type": "code",
   "execution_count": 1,
   "id": "bc097ef3",
   "metadata": {},
   "outputs": [
    {
     "name": "stdout",
     "output_type": "stream",
     "text": [
      "Collecting yfinance\n",
      "  Downloading yfinance-0.1.70-py2.py3-none-any.whl (26 kB)\n",
      "Collecting requests>=2.26\n",
      "  Using cached requests-2.27.1-py2.py3-none-any.whl (63 kB)\n",
      "Collecting multitasking>=0.0.7\n",
      "  Downloading multitasking-0.0.10.tar.gz (8.2 kB)\n",
      "Requirement already satisfied: pandas>=0.24.0 in /Users/akbare/anaconda3/lib/python3.9/site-packages (from yfinance) (1.3.4)\n",
      "Requirement already satisfied: numpy>=1.15 in /Users/akbare/anaconda3/lib/python3.9/site-packages (from yfinance) (1.20.3)\n",
      "Requirement already satisfied: lxml>=4.5.1 in /Users/akbare/anaconda3/lib/python3.9/site-packages (from yfinance) (4.6.3)\n",
      "Requirement already satisfied: python-dateutil>=2.7.3 in /Users/akbare/anaconda3/lib/python3.9/site-packages (from pandas>=0.24.0->yfinance) (2.8.2)\n",
      "Requirement already satisfied: pytz>=2017.3 in /Users/akbare/anaconda3/lib/python3.9/site-packages (from pandas>=0.24.0->yfinance) (2021.3)\n",
      "Requirement already satisfied: six>=1.5 in /Users/akbare/anaconda3/lib/python3.9/site-packages (from python-dateutil>=2.7.3->pandas>=0.24.0->yfinance) (1.16.0)\n",
      "Requirement already satisfied: idna<4,>=2.5 in /Users/akbare/anaconda3/lib/python3.9/site-packages (from requests>=2.26->yfinance) (2.10)\n",
      "Requirement already satisfied: urllib3<1.27,>=1.21.1 in /Users/akbare/anaconda3/lib/python3.9/site-packages (from requests>=2.26->yfinance) (1.26.7)\n",
      "Requirement already satisfied: charset-normalizer~=2.0.0 in /Users/akbare/anaconda3/lib/python3.9/site-packages (from requests>=2.26->yfinance) (2.0.4)\n",
      "Requirement already satisfied: certifi>=2017.4.17 in /Users/akbare/anaconda3/lib/python3.9/site-packages (from requests>=2.26->yfinance) (2021.10.8)\n",
      "Building wheels for collected packages: multitasking\n",
      "  Building wheel for multitasking (setup.py) ... \u001b[?25ldone\n",
      "\u001b[?25h  Created wheel for multitasking: filename=multitasking-0.0.10-py3-none-any.whl size=8500 sha256=44becdf2c0faec460d6e005b9aa005fc13cb2cca371a2aafde054400853ba1be\n",
      "  Stored in directory: /Users/akbare/Library/Caches/pip/wheels/f2/b5/2c/59ba95dcf854e542944c75fe3da584e4e3833b319735a0546c\n",
      "Successfully built multitasking\n",
      "Installing collected packages: requests, multitasking, yfinance\n",
      "  Attempting uninstall: requests\n",
      "    Found existing installation: requests 2.25.1\n",
      "    Uninstalling requests-2.25.1:\n",
      "      Successfully uninstalled requests-2.25.1\n",
      "\u001b[31mERROR: pip's dependency resolver does not currently take into account all the packages that are installed. This behaviour is the source of the following dependency conflicts.\n",
      "conda-repo-cli 1.0.4 requires pathlib, which is not installed.\n",
      "marker 2.1.5 requires requests==2.25.1, but you have requests 2.27.1 which is incompatible.\n",
      "cookiecutter 1.7.2 requires Jinja2<3.0.0, but you have jinja2 3.0.0 which is incompatible.\n",
      "cookiecutter 1.7.2 requires MarkupSafe<2.0.0, but you have markupsafe 2.0.1 which is incompatible.\u001b[0m\n",
      "Successfully installed multitasking-0.0.10 requests-2.27.1 yfinance-0.1.70\n"
     ]
    }
   ],
   "source": [
    "! pip install yfinance"
   ]
  },
  {
   "cell_type": "code",
   "execution_count": 2,
   "id": "1cb25b30",
   "metadata": {},
   "outputs": [
    {
     "name": "stdout",
     "output_type": "stream",
     "text": [
      "Requirement already satisfied: plotly in /Users/akbare/anaconda3/lib/python3.9/site-packages (5.7.0)\n",
      "Requirement already satisfied: tenacity>=6.2.0 in /Users/akbare/anaconda3/lib/python3.9/site-packages (from plotly) (8.0.1)\n",
      "Requirement already satisfied: six in /Users/akbare/anaconda3/lib/python3.9/site-packages (from plotly) (1.16.0)\n"
     ]
    }
   ],
   "source": [
    "! pip install plotly"
   ]
  },
  {
   "cell_type": "code",
   "execution_count": 3,
   "id": "81ebb8d9",
   "metadata": {},
   "outputs": [],
   "source": [
    "# Import yfinance\n",
    "import yfinance as yf\n",
    "\n",
    "# Import pandas\n",
    "import pandas as pd\n",
    "\n",
    "# Data Viz\n",
    "import plotly.graph_objs as go\n",
    " \n",
    "import numpy as np \n",
    "import matplotlib.pyplot as plt \n",
    "import seaborn as sns"
   ]
  },
  {
   "cell_type": "code",
   "execution_count": null,
   "id": "b39fb8de",
   "metadata": {},
   "outputs": [],
   "source": [
    "# Download the datafile from yfinance\n",
    "data = yf.download(tickers='BTC-USD')[['Close']]"
   ]
  },
  {
   "cell_type": "code",
   "execution_count": null,
   "id": "eba05a5e",
   "metadata": {},
   "outputs": [],
   "source": [
    "data.head()"
   ]
  },
  {
   "cell_type": "code",
   "execution_count": null,
   "id": "0530d6c9",
   "metadata": {},
   "outputs": [],
   "source": [
    "data.index = pd.to_datetime(data.index)\n",
    "data.head().round(2)"
   ]
  },
  {
   "cell_type": "code",
   "execution_count": null,
   "id": "6650ee75",
   "metadata": {},
   "outputs": [],
   "source": [
    "data.shape"
   ]
  },
  {
   "cell_type": "code",
   "execution_count": null,
   "id": "56b5fe76",
   "metadata": {},
   "outputs": [],
   "source": [
    "sns.lineplot(data.index, data.Close)\n",
    "plt.title('Bitcoin price')"
   ]
  },
  {
   "cell_type": "code",
   "execution_count": null,
   "id": "fe6888e9",
   "metadata": {},
   "outputs": [],
   "source": [
    "from statsmodels.tsa.stattools import adfuller\n",
    "\n",
    "result = adfuller(data.Close)\n",
    "print('ADF Test Statistic: %.2f' % result[0])\n",
    "print('5%% Critical Value: %.2f' % result[4]['5%'])\n",
    "print('p-value: %.2f' % result[1])"
   ]
  },
  {
   "cell_type": "code",
   "execution_count": null,
   "id": "b65a570d",
   "metadata": {},
   "outputs": [],
   "source": [
    "from statsmodels.tsa.stattools import kpss\n",
    "\n",
    "result = kpss(data.Close)\n",
    "print(result)\n",
    "print('KPSS Test Statistic: %.2f' % result[0])\n",
    "print('5%% Critical Value: %.2f' % result[3]['5%'])\n",
    "print('p-value: %.2f' % result[1])"
   ]
  },
  {
   "cell_type": "code",
   "execution_count": null,
   "id": "04edd3e1",
   "metadata": {},
   "outputs": [],
   "source": [
    "from statsmodels.graphics.tsaplots import plot_acf , plot_pacf\n",
    "plot_acf(data.Close)\n",
    "plt.show()"
   ]
  },
  {
   "cell_type": "code",
   "execution_count": null,
   "id": "c7472205",
   "metadata": {},
   "outputs": [],
   "source": [
    "plot_pacf(data.Close)\n",
    "plt.show()"
   ]
  },
  {
   "cell_type": "code",
   "execution_count": null,
   "id": "e5a7bc7a",
   "metadata": {},
   "outputs": [],
   "source": [
    "#First, use differnce method\n",
    "data['differ'] = data['Close'].diff()"
   ]
  },
  {
   "cell_type": "code",
   "execution_count": null,
   "id": "b9712f61",
   "metadata": {},
   "outputs": [],
   "source": [
    "data.head()"
   ]
  },
  {
   "cell_type": "code",
   "execution_count": null,
   "id": "02c7e139",
   "metadata": {},
   "outputs": [],
   "source": [
    "sns.lineplot(data.index, data.differ)\n",
    "plt.title('Bitcoin price'"
   ]
  },
  {
   "cell_type": "code",
   "execution_count": null,
   "id": "c06506b0",
   "metadata": {},
   "outputs": [],
   "source": [
    "result = adfuller(data.differ.dropna())\n",
    "print('ADF Test Statistic: %.2f' % result[0])\n",
    "print('5%% Critical Value: %.2f' % result[4]['5%'])\n",
    "print('p-value: %.2f' % result[1])"
   ]
  },
  {
   "cell_type": "code",
   "execution_count": null,
   "id": "107e8d4c",
   "metadata": {},
   "outputs": [],
   "source": [
    "#By looking at the partial autocorrelation, the model will be first order\n",
    "from statsmodels.tsa.arima_model import ARMA\n",
    "model_AR1 = ARMA(data.differ.dropna(), order=(1, 0))\n",
    "result_AR1 = model_AR1.fit()\n",
    "result_AR1.summary()"
   ]
  },
  {
   "cell_type": "code",
   "execution_count": null,
   "id": "bcf872f5",
   "metadata": {},
   "outputs": [],
   "source": [
    "model_MA1 = ARMA(data.differ.dropna(), order=(0,1))\n",
    "result_MA1 = model_MA1.fit()\n",
    "result_MA1.summary()"
   ]
  },
  {
   "cell_type": "code",
   "execution_count": null,
   "id": "41dfc002",
   "metadata": {},
   "outputs": [],
   "source": [
    "# Step 2 Apply the model:\n",
    "# 1. AR Model\n",
    "model_AR_1 = ARMA(df_train.dropna(), order=(1, 0))\n",
    "result_AR_1 = model_AR_1.fit()\n",
    "result_AR_1.summary()"
   ]
  },
  {
   "cell_type": "code",
   "execution_count": null,
   "id": "8b245b75",
   "metadata": {},
   "outputs": [],
   "source": [
    "# Predict the model:\n",
    "predict_AR_1=result_AR_1.predict(df_test.index[0],df_test.index[-1])\n",
    "predict_AR_1"
   ]
  },
  {
   "cell_type": "code",
   "execution_count": null,
   "id": "3245ea0d",
   "metadata": {},
   "outputs": [],
   "source": [
    "# Calculate RMSE for the model:\n",
    "from statsmodels.tools.eval_measures import rmse\n",
    "RMSE_AR_1 = rmse(df_test,predict_AR_1)\n",
    "RMSE_AR_1"
   ]
  },
  {
   "cell_type": "code",
   "execution_count": null,
   "id": "4e5208a9",
   "metadata": {},
   "outputs": [],
   "source": [
    "# 1. MA Model:\n",
    "model_MA_1 = ARMA(df_train.dropna(), order=(0, 1))\n",
    "result_MA_1 = model_MA_1.fit()\n",
    "result_MA_1.summary()"
   ]
  }
 ],
 "metadata": {
  "kernelspec": {
   "display_name": "Python 3 (ipykernel)",
   "language": "python",
   "name": "python3"
  },
  "language_info": {
   "codemirror_mode": {
    "name": "ipython",
    "version": 3
   },
   "file_extension": ".py",
   "mimetype": "text/x-python",
   "name": "python",
   "nbconvert_exporter": "python",
   "pygments_lexer": "ipython3",
   "version": "3.9.7"
  }
 },
 "nbformat": 4,
 "nbformat_minor": 5
}
